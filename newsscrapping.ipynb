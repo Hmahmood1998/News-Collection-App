{
 "cells": [
  {
   "cell_type": "code",
   "execution_count": 3,
   "metadata": {},
   "outputs": [],
   "source": [
    "import requests\n",
    "from bs4 import BeautifulSoup "
   ]
  },
  {
   "cell_type": "code",
   "execution_count": 4,
   "metadata": {},
   "outputs": [],
   "source": [
    "url=\"https://www.ndtv.com/top-stories\""
   ]
  },
  {
   "cell_type": "code",
   "execution_count": 5,
   "metadata": {},
   "outputs": [],
   "source": [
    "data=requests.get(url)"
   ]
  },
  {
   "cell_type": "code",
   "execution_count": 6,
   "metadata": {},
   "outputs": [],
   "source": [
    "# data.text"
   ]
  },
  {
   "cell_type": "code",
   "execution_count": 7,
   "metadata": {},
   "outputs": [],
   "source": [
    "soup=BeautifulSoup(data.text)\n",
    "# soup"
   ]
  },
  {
   "cell_type": "code",
   "execution_count": 19,
   "metadata": {},
   "outputs": [],
   "source": [
    "news = []\n",
    "for row in soup.find_all('div',{'class':'news_Itm'}):\n",
    "    detail = {}\n",
    "    if not  'adBg' in row.attrs.get('class'):\n",
    "        # print(row.find('h2').attrs.get('href'))\n",
    "        detail['link'] = row.find('h2') #{'class':'newsHdng'}).attrs.get('href')\n",
    "        # print(row.find('span').text)\n",
    "        detail['Sourse']=row.find('span').text\n",
    "        # print(row.find('p').text)\n",
    "        detail['Paragraph']=row.find('p').text\n",
    "        # print(row.find('img').attrs.get('src'))\n",
    "        detail['Image']=row.find('img').attrs.get('src')\n",
    "        # print()\n",
    "    news.append(detail)\n"
   ]
  },
  {
   "cell_type": "code",
   "execution_count": 20,
   "metadata": {},
   "outputs": [
    {
     "data": {
      "text/plain": [
       "[{'link': <h2 class=\"newsHdng\"><a href=\"https://www.ndtv.com/world-news/egypt-digitally-unwraps-mummy-of-famed-pharaoh-amenhotep-i-discovered-in-1881-2676036\">Egypt \"Digitally Unwraps\" Mummy Of Famed Pharaoh Discovered In 1881</a></h2>,\n",
       "  'Sourse': 'Agence France-Presse   | Tuesday December 28, 2021, Cairo                                                        \\n                                                        ',\n",
       "  'Paragraph': 'Egypt has \"digitally unwrapped\" the mummy of famed Pharaoh Amenhotep I, revealing its secrets for the first time since it was discovered in 1881 without disturbing his funerary mask.',\n",
       "  'Image': 'https://c.ndtvimg.com/2021-12/hvf0l6qk_amenhotep-i-mummy-afp_120x90_28_December_21.jpg'},\n",
       " {'link': <h2 class=\"newsHdng\"><a href=\"https://www.ndtv.com/india-news/will-campaign-against-controversial-law-afspa-in-manipur-says-meghalaya-chief-minister-conrad-sangma-2676022\">Will Campaign Against Controversial Law AFSPA In Manipur: Meghalaya Chief Minister</a></h2>,\n",
       "  'Sourse': '\\n\\t\\t\\t\\t\\t\\t\\t\\t\\t\\t\\t\\t\\t\\t\\tWritten by Ratnadip Choudhury  | Tuesday December 28, 2021, Guwahati                                                        \\n                                                        ',\n",
       "  'Paragraph': \"Meghalaya Chief minister and National People's Party (NPP) chief Conrad K Sangma said the demand to withdraw the controversial law Armed Force (Special) Power Act, or AFSPA, would be the key agenda of their party in the Manipur assembly election.\",\n",
       "  'Image': 'https://c.ndtvimg.com/2020-12/2dmusveg_meghalaya-chief-minister-conrad-sangma_120x90_11_December_20.jpg'},\n",
       " {'link': <h2 class=\"newsHdng\"><a href=\"https://www.ndtv.com/kerala-news/sexual-assault-case-court-seeks-accused-stand-on-pleas-for-more-witnesses-2676008\">Sexual Assault Case: Court Seeks Accused Stand On Pleas For More Witnesses</a></h2>,\n",
       "  'Sourse': 'Press Trust of India   | Tuesday December 28, 2021, Kochi                                                        \\n                                                        ',\n",
       "  'Paragraph': \"The Kerala High Court on Tuesday sought the response of all the accused, including actor Dileep, on the state government's appeals against a trial court's orders, declining its pleas to summon several more witnesses and get certified copies of the ca\",\n",
       "  'Image': 'https://c.ndtvimg.com/2019-09/3i80mou8_kerala-high-court-240_120x90_05_September_19.jpg'},\n",
       " {},\n",
       " {'link': <h2 class=\"newsHdng\"><a href=\"https://www.ndtv.com/india-news/bjps-kamal-gupta-jannayak-janta-partys-devender-singh-babli-sworn-in-as-ministers-in-haryana-2675984\">Devender Singh Babli, Kamal Gupta Sworn In As Ministers In Haryana</a></h2>,\n",
       "  'Sourse': 'Press Trust of India   | Tuesday December 28, 2021, Chandigarh                                                        \\n                                                        ',\n",
       "  'Paragraph': 'Haryana Chief Minister Manohar Lal Khattar expanded his cabinet on Tuesday, inducting an MLA each from the Bharatiya Janata Party (BJP) and the Jannayak Janta Party (JJP).',\n",
       "  'Image': 'https://c.ndtvimg.com/2021-12/8a8bnjuo_devender-singh-babli_120x90_28_December_21.jpg'},\n",
       " {'link': <h2 class=\"newsHdng\"><a href=\"https://www.ndtv.com/india-news/video-shows-aaditya-thackeray-catcalled-by-bjps-nitesh-rane-with-meows-2675981\">Watch: Aaditya Thackeray \"Meowed\" By BJP's Nitesh Rane Outside Assembly</a></h2>,\n",
       "  'Sourse': 'NDTV News Desk   | Tuesday December 28, 2021, Mumbai                                                        \\n                                                        ',\n",
       "  'Paragraph': 'A video has emerged showing BJP MLA Nitesh Rane taunting Maharashtra minister Aaditya Thackeray as he entered the legislature building last week.',\n",
       "  'Image': 'https://c.ndtvimg.com/2021-12/08a346ao_-aaditya-thackeray-pti_120x90_28_December_21.jpg'},\n",
       " {'link': <h2 class=\"newsHdng\"><a href=\"https://www.ndtv.com/india-news/son-being-falsely-implicated-in-attempt-to-murder-case-says-bjps-narayan-rane-2675961\">Son Being Falsely Implicated In Attempt To Murder Case, Says BJP's Narayan Rane</a></h2>,\n",
       "  'Sourse': 'Press Trust of India   | Tuesday December 28, 2021, Sindhudurg, Maharashtra                                                        \\n                                                        ',\n",
       "  'Paragraph': \"Amid speculation about BJP MLA Nitesh Rane's possible arrest in an attempt to murder case, his father and Union Minister Narayan Rane today claimed his son has been falsely implicated in the case and in Maharashtra government is misusing its power.\",\n",
       "  'Image': 'https://c.ndtvimg.com/2021-11/sm6avn7_narayan-rane-pti_120x90_26_November_21.jpg'},\n",
       " {},\n",
       " {'link': <h2 class=\"newsHdng\"><a href=\"https://www.ndtv.com/india-news/centre-expanding-redefining-development-focussing-on-tier-ii-iii-cities-pm-modi-2675920\">Centre Expanding, Redefining Development; Focussing On Tier II, III Cities: PM Modi</a></h2>,\n",
       "  'Sourse': 'Asian News International   | Tuesday December 28, 2021, Kanpur                                                        \\n                                                        ',\n",
       "  'Paragraph': \"Prime Minister Narendra Modi on Tuesday stated that the Centre is expanding and redefining the focus of 'development' to the tier II and tier III cities which have boosted the confidence of youth in these cities.\",\n",
       "  'Image': 'https://c.ndtvimg.com/2021-12/efjegr2g_pm-modi-kanpur-ndtv_120x90_28_December_21.jpg'},\n",
       " {'link': <h2 class=\"newsHdng\"><a href=\"https://www.ndtv.com/india-news/pm-narendra-modi-vs-akhilesh-yadav-on-kanpur-businessman-piyush-jain-who-hid-rs-200-crore-cash-at-home-2675914\">PM vs Akhilesh Yadav On UP Businessman Who Hid Rs 200 Crore Cash At Home</a></h2>,\n",
       "  'Sourse': '\\n\\t\\t\\t\\t\\t\\t\\t\\t\\t\\t\\t\\t\\t\\t\\tReported by Akhilesh Sharma, Edited by Deepshikha Ghosh  | Tuesday December 28, 2021, New Delhi                                                        \\n                                                        ',\n",
       "  'Paragraph': 'A Kanpur businessman who had hidden 200 crores inside his home starred in political wrangling today ahead of the Uttar Pradesh election as PM Modi and Amit Shah took sharp digs at Akhilesh Yadav and the Samajwadi Party chief clapped back.',\n",
       "  'Image': 'https://c.ndtvimg.com/2021-12/j47dk57o_pm-modikanpurndtv_120x90_28_December_21.jpg'},\n",
       " {'link': <h2 class=\"newsHdng\"><a href=\"https://www.ndtv.com/india-news/18-fully-vaccinated-students-of-maharashtra-medical-college-test-covid-positive-2675865\">18 Fully Vaccinated Students Of Maharashtra Medical College Test Covid Positive</a></h2>,\n",
       "  'Sourse': 'Press Trust of India   | Tuesday December 28, 2021, Pune                                                        \\n                                                        ',\n",
       "  'Paragraph': \"At least 18 female MBBS students of the Government Medical College at Miraj in Maharashtra's Sangli district have contracted coronavirus infection, a senior official said on Tuesday.\",\n",
       "  'Image': 'https://i.ndtvimg.com/i/2017-06/medical-student_240x180_71498559388.jpg'},\n",
       " {'link': <h2 class=\"newsHdng\"><a href=\"https://www.ndtv.com/world-news/4-dead-3-including-a-cop-wounded-in-us-colorado-shooting-police-2675857\">4 Dead, 3 Including A Cop Wounded In US Shooting: Police</a></h2>,\n",
       "  'Sourse': 'Agence France-Presse   | Tuesday December 28, 2021, Washington                                                        \\n                                                        ',\n",
       "  'Paragraph': 'A lone gunman killed four people and wounded three more -- including a police officer -- on Monday after opening fire in multiple locations across Colorado before being shot dead, US police said.',\n",
       "  'Image': 'https://c.ndtvimg.com/2021-12/gl7ldu9g_colorado-shooting_120x90_28_December_21.jpg'},\n",
       " {'link': <h2 class=\"newsHdng\"><a href=\"https://www.ndtv.com/india-news/maharashtra-anti-terror-squad-forced-me-to-name-yogi-adityanath-rss-leaders-malegaon-blast-witness-2675850\">Maharashtra Anti-Terror Squad Forced Me To Name Yogi Adityanath, RSS Leaders: Malegaon Blast Witness</a></h2>,\n",
       "  'Sourse': 'Press Trust of India   | Tuesday December 28, 2021, Mumbai                                                        \\n                                                        ',\n",
       "  'Paragraph': 'A witness in the 2008 Malegaon blast case, whose statement was recorded by the Maharashtra Anti-Terrorism Squad, claimed before a court that the ATS had threatened him to name Uttar Pradesh Chief Minister Yogi Adityanath and four other RSS leaders.',\n",
       "  'Image': 'https://c.ndtvimg.com/2020-12/fe4jouh8_malegaon-blast240_120x90_02_December_20.jpg'},\n",
       " {'link': <h2 class=\"newsHdng\"><a href=\"https://www.ndtv.com/india-news/coronavirus-for-senior-citizens-getting-booster-shots-doctor-certificate-prescription-not-needed-to-establish-co-morbidity-2675764\">Booster Dose For 60+: Prescription Not Needed To Prove Comorbidity</a></h2>,\n",
       "  'Sourse': '\\n\\t\\t\\t\\t\\t\\t\\t\\t\\t\\t\\t\\t\\t\\t\\tEdited by Debanish Achom  | Tuesday December 28, 2021, New Delhi                                                        \\n                                                        ',\n",
       "  'Paragraph': 'People above 60 with comorbidities do not need to show a doctor certificate or prescription to show they belong to the high-risk category to be eligible for a \"precaution dose\" or booster against COVID-19.',\n",
       "  'Image': 'https://c.ndtvimg.com/2021-11/f0icgtds_covid-variant-omicron_120x90_27_November_21.jpg'},\n",
       " {'link': <h2 class=\"newsHdng\"><a href=\"https://www.ndtv.com/india-news/covid-19-mercks-anti-covid-pill-molnupiravir-cleared-but-will-india-place-bulk-orders-2675750\">Anti-Covid Pill Cleared, But Will India Place Bulk Orders?</a></h2>,\n",
       "  'Sourse': '\\n\\t\\t\\t\\t\\t\\t\\t\\t\\t\\t\\t\\t\\t\\t\\tEdited by Debanish Achom  | Tuesday December 28, 2021, New Delhi                                                        \\n                                                        ',\n",
       "  'Paragraph': 'The next big breakthrough in the fight against COVID-19 is here and India has a chance to be among the first nations to manufacture billions of doses of a series of new anti-viral pills.',\n",
       "  'Image': 'https://c.ndtvimg.com/2021-04/us84gg8_covid-india-afp_120x90_24_April_21.jpg'},\n",
       " {'link': <h2 class=\"newsHdng\"><a href=\"https://www.ndtv.com/india-news/delhi-omicron-cases-go-from-2-3-to-25-30-in-2-weeks-2675734\">Delhi Omicron Cases Go From 2-3% to 25-30% In 2 Weeks</a></h2>,\n",
       "  'Sourse': '\\n\\t\\t\\t\\t\\t\\t\\t\\t\\t\\t\\t\\t\\t\\t\\tReported by Meher Pandey, Edited by Anindita Sanyal  | Tuesday December 28, 2021, New Delhi                                                        \\n                                                        ',\n",
       "  'Paragraph': \"Omicron cases in Delhi have shot up from two to three per cent to 25 to 30 per cent of Covid cases in a span of two weeks, a genome sequencing lab in Delhi that's part of INSACOG has said.\",\n",
       "  'Image': 'https://c.ndtvimg.com/2021-12/7muuefd8_delhi-omicron-ward-ani_240x180_20_December_21.jpg'},\n",
       " {'link': <h2 class=\"newsHdng\"><a href=\"https://www.ndtv.com/india-news/serum-institute-thanks-centre-for-emergency-use-approval-for-covid-19-vaccine-covovax-2675645\">Serum Institute Thanks Centre For Emergency Use Approval For Covovax</a></h2>,\n",
       "  'Sourse': 'Asian News International   | Tuesday December 28, 2021, Pune (Maharashtra)                                                        \\n                                                        ',\n",
       "  'Paragraph': 'Serum Institute of India on Tuesday expressed gratitude to the Union Health Ministry for granting Emergency Use Authorization for its COVID-19 vaccine Covovax.',\n",
       "  'Image': 'https://c.ndtvimg.com/2021-11/nu81c728_adar-poonawala_120x90_30_November_21.jpg'}]"
      ]
     },
     "execution_count": 20,
     "metadata": {},
     "output_type": "execute_result"
    }
   ],
   "source": [
    "news"
   ]
  },
  {
   "cell_type": "code",
   "execution_count": null,
   "metadata": {},
   "outputs": [],
   "source": []
  }
 ],
 "metadata": {
  "interpreter": {
   "hash": "8da01e5a71448ea74f54d88afa8911010d1d12e23bc7e103d40d5def4a09152c"
  },
  "kernelspec": {
   "display_name": "Python 3.9.8 64-bit",
   "language": "python",
   "name": "python3"
  },
  "language_info": {
   "codemirror_mode": {
    "name": "ipython",
    "version": 3
   },
   "file_extension": ".py",
   "mimetype": "text/x-python",
   "name": "python",
   "nbconvert_exporter": "python",
   "pygments_lexer": "ipython3",
   "version": "3.9.8"
  },
  "orig_nbformat": 4
 },
 "nbformat": 4,
 "nbformat_minor": 2
}
