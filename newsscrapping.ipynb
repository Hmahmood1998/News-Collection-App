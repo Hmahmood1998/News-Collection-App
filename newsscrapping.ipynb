{
 "cells": [
  {
   "cell_type": "code",
   "execution_count": 1,
   "metadata": {},
   "outputs": [],
   "source": [
    "import requests\n",
    "from bs4 import BeautifulSoup "
   ]
  },
  {
   "cell_type": "code",
   "execution_count": 13,
   "metadata": {},
   "outputs": [],
   "source": [
    "url=\"https://www.ndtv.com/top-stories\""
   ]
  },
  {
   "cell_type": "code",
   "execution_count": 14,
   "metadata": {},
   "outputs": [],
   "source": [
    "data=requests.get(url)"
   ]
  },
  {
   "cell_type": "code",
   "execution_count": 6,
   "metadata": {},
   "outputs": [],
   "source": [
    "# data.text"
   ]
  },
  {
   "cell_type": "code",
   "execution_count": 15,
   "metadata": {},
   "outputs": [],
   "source": [
    "soup=BeautifulSoup(data.text)\n",
    "# soup"
   ]
  },
  {
   "cell_type": "code",
   "execution_count": 21,
   "metadata": {},
   "outputs": [],
   "source": [
    "news = []\n",
    "for row in soup.find_all('div',{'class':'news_Itm'}):\n",
    "    detail = {}\n",
    "    if not  'adBg' in row.attrs.get('class'):\n",
    "        # print(row.find('h2').attrs.get('href'))\n",
    "        detail['link'] = row.find('h2').find('a').attrs.get('href')\n",
    "        # print(row.find('span').text)\n",
    "        detail['heading'] = row.find('h2').text\n",
    "\n",
    "        detail['Sourse']=row.find('span').text\n",
    "        # print(row.find('p').text)\n",
    "        detail['Paragraph']=row.find('p').text\n",
    "        # print(row.find('img').attrs.get('src'))\n",
    "        detail['Image']=row.find('img').attrs.get('src')\n",
    "        # print()\n",
    "    news.append(detail)\n"
   ]
  },
  {
   "cell_type": "code",
   "execution_count": 2,
   "metadata": {},
   "outputs": [],
   "source": [
    "# news"
   ]
  },
  {
   "cell_type": "code",
   "execution_count": 2,
   "metadata": {},
   "outputs": [],
   "source": [
    "url=\"https://www.indiatoday.in/top-stories\""
   ]
  },
  {
   "cell_type": "code",
   "execution_count": 3,
   "metadata": {},
   "outputs": [],
   "source": [
    "data=requests.get(url)"
   ]
  },
  {
   "cell_type": "code",
   "execution_count": 4,
   "metadata": {},
   "outputs": [],
   "source": [
    "soup=BeautifulSoup(data.text)"
   ]
  },
  {
   "cell_type": "code",
   "execution_count": 6,
   "metadata": {},
   "outputs": [],
   "source": [
    "news=[]\n",
    "for row in soup.find_all('div',{'class':'catagory-listing'}):\n",
    "    detail={}\n",
    "\n",
    "    detail['heading']=row.find('h2').text\n",
    "\n",
    "    detail['summary']=row.find('p').text\n",
    "\n",
    "    detail['image']=row.find('img').attrs.get('src')\n",
    "\n",
    "    detail['link'] = row.find('h2').find('a').attrs.get('href')\n",
    "\n",
    "    news.append(detail)\n"
   ]
  },
  {
   "cell_type": "code",
   "execution_count": 7,
   "metadata": {},
   "outputs": [
    {
     "data": {
      "text/plain": [
       "[{'heading': 'Assam eyes vaccinating 3 lakh children daily to inoculate all kids',\n",
       "  'summary': 'The Assam government aims to vaccinate at least three lakh kids on a daily\\nbasis to inoculate all eligible kids by January 9. At least 20 Covid\\nvaccination centres in each district have been set up to vaccinate kids aged\\n15-18 years.',\n",
       "  'image': 'https://akm-img-a-in.tosshub.com/indiatoday/images/story/202201/Screenshot_(57)_0.png?iuOhsT.IYOo9eWjqSCA3kPvDqveyGyrT&size=170:96',\n",
       "  'link': '/coronavirus-outbreak/story/assam-eyes-vaccinating-3-lakh-children-daily-inoculate-all-kids-january-9-1895465-2022-01-03'},\n",
       " {'heading': 'Divya Dutta recalls meeting Salman Khan for the 1st time with throwback pic. See here',\n",
       "  'summary': 'Divya Dutta took a trip down memory lane and dropped a throwback picture with\\nSalman Khan. The actress also wrote a sweet note along with the picture.',\n",
       "  'image': 'https://akm-img-a-in.tosshub.com/indiatoday/images/story/202201/pjimage_(1)_1.jpg?y17TkojXhXyVawccSEy_k9Stl6YHFXSq&size=170:96',\n",
       "  'link': '/movies/celebrities/story/divya-dutta-recalls-meeting-salman-khan-for-the-1st-time-with-throwback-pic-see-here-1895466-2022-01-03'},\n",
       " {'heading': 'Jharkhand: Man killed his father over property dispute; arrested',\n",
       "  'summary': 'In Jharkhand, a son from the Godda district killed his father over property\\ndisputes. He has been arrested by the police.',\n",
       "  'image': 'https://akm-img-a-in.tosshub.com/indiatoday/images/story/202201/Bank_manager_killed_during_rob_1200x768.jpeg?rHpc9yzDoqu4IlE99xhlw.UiBy9OIvPl&size=170:96',\n",
       "  'link': '/crime/story/son-kills-his-father-slits-father-throat-with-a-sharp-weapon-in-jharkhand-1895464-2022-01-03'},\n",
       " {'heading': \"Kerala Minister VN Vasavan's car collides with pickup van near Pampandy\",\n",
       "  'summary': 'Kerala Minister for Cooperation and Registration, VN Vasavan met with an\\naccident on Monday, January 3, when his car collided with a mini truck that\\nlost control when making a turn. The minister escaped unhurt.',\n",
       "  'image': 'https://akm-img-a-in.tosshub.com/indiatoday/images/story/202201/Kerala_minister_1200x768.png?wzcYAW4Z7FCViidsI3gatYbyZpdwIgrr&size=170:96',\n",
       "  'link': '/india/story/kerala-minister-vn-vasavan-s-car-collides-with-pickup-van-near-pampandy-1895462-2022-01-03'},\n",
       " {'heading': 'Umar Riaz evicted from Bigg Boss 15 after physical fight with Pratik? Watch promo',\n",
       "  'summary': 'According to the latest promo of Bigg Boss 15, it is hinted that Umar Riaz\\nhas been asked to leave the house. It comes after he got into a physical\\nfight with Pratik Sehajpal.',\n",
       "  'image': 'https://akm-img-a-in.tosshub.com/indiatoday/images/story/202201/87674801_1200x768.jpeg?HyF8lLifE6qwWmbHPID_aW6y8vo1HXU_&size=170:96',\n",
       "  'link': '/television/reality-tv/story/umar-riaz-evicted-from-bigg-boss-15-after-physical-fight-with-pratik-watch-promo-1895463-2022-01-03'},\n",
       " {'heading': 'Watch: Baby girl tastes pizza for the first time in viral video',\n",
       "  'summary': 'In a video that has gone viral on social media, a little girl was seen trying\\npizza for the first time. The video has 38k views.',\n",
       "  'image': 'https://akm-img-a-in.tosshub.com/indiatoday/images/story/202201/Untitled_design_(4).jpg?8AnXcrup1nkzLOQa_puJvSCyeiu6XelB&size=170:96',\n",
       "  'link': '/trending-news/story/baby-girl-tastes-pizza-for-the-first-time-her-hilarious-reaction-is-now-a-viral-video-1895452-2022-01-03'},\n",
       " {'heading': 'Chennai to increase Covid testing; hires 1000 volunteers to help those in home quarantined ',\n",
       "  'summary': 'The state has set up telecounselling centres and has increased daily testing\\nfrom 25,000 to 30,000.',\n",
       "  'image': 'https://akm-img-a-in.tosshub.com/indiatoday/images/story/202201/covid_test.jpg?8gPBxGeBa6hZlmSD8urAKjvQ1enwuFQ8&size=170:96',\n",
       "  'link': '/cities/chennai/story/chennai-covid-testing-bed-facilities-night-curfew-timing-1895460-2022-01-03'},\n",
       " {'heading': 'Drunk man from Delhi hits 9 people in Nainital before crashing into sidewall in Nanital',\n",
       "  'summary': 'A man from Delhi allegedly hit nine people and six bikes with a car in\\nNainital, before crashing into the sidewall.',\n",
       "  'image': 'https://akm-img-a-in.tosshub.com/indiatoday/images/story/202201/Three_riding_triple_seat_on_bi_1200x768.jpeg?5nzozgXQoYu82NiPMyVaMzU91zMtFUYV&size=170:96',\n",
       "  'link': '/india/story/drunk-man-from-delhi-hits-9-people-in-nainital-before-crashing-into-sidewall-in-nanital-1895458-2022-01-03'},\n",
       " {'heading': 'Rajnath Singh inaugurates Kalpana Chawla Research Centre to train students in space science',\n",
       "  'summary': 'The new research centre at Chandigarh University has been established with\\nthe objective of training students in space science.',\n",
       "  'image': 'https://akm-img-a-in.tosshub.com/indiatoday/images/story/202201/Rajnath.jpg?TIZZ8XebFOHn6ZFwIZVgCcdYEobFsieP&size=170:96',\n",
       "  'link': '/science/story/kalpana-chawla-centre-space-science-rajnath-singh-chandigarh-university-satellite-cusat-1895451-2022-01-03'},\n",
       " {'heading': 'Sensex, Nifty start 2022 with strong gains on bank, auto rally',\n",
       "  'summary': 'Benchmark market indices ended the first trading session of 2022 with strong\\ngains as bank and auto shares rallied.',\n",
       "  'image': 'https://akm-img-a-in.tosshub.com/indiatoday/images/story/202201/stock-market-closing-january-3_1200x768.png?vRPFcPQnKs_H3Wh_v6r2nbQ6YjVkafbD&size=170:96',\n",
       "  'link': '/business/story/stock-market-closing-update-sensex-nifty-start-2022-with-strong-gains-1895453-2022-01-03'},\n",
       " {'heading': \"Who is Riyasdeen Shaik Mohamed, AR Rahman's son-in-law?\",\n",
       "  'summary': \"On December 29, composer AR Rahman's eldest daughter Khatija got engaged to\\nRiyasdeen Shaik Mohamed. Here's what we know about AR Rahman's son-in-law.\",\n",
       "  'image': 'https://akm-img-a-in.tosshub.com/indiatoday/images/story/202201/Ar_rahman_Khatija_engagement_0.jpg?KYfV6kHXkc1ehh30RgYKB1dTR9acbd4Q&size=170:96',\n",
       "  'link': '/movies/regional-cinema/story/who-is-riyasdeen-shaik-mohamed-ar-rahman-s-son-in-law-1895447-2022-01-03'},\n",
       " {'heading': '6.2 magnitude earthquake strikes Taiwan',\n",
       "  'summary': 'An earthquake of magnitude 6.2 hit Taiwan on Monday evening. There were no\\nimmediate reports of serious damage or injuries.',\n",
       "  'image': 'https://akm-img-a-in.tosshub.com/indiatoday/images/story/202201/reuters_2-770x433_0_1200x768.jpeg?VhwWIjMTdoHyrvoqNDQBIDFCRoR_mZXa&size=170:96',\n",
       "  'link': '/earthquake-today/story/earthquake-strikes-taiwan-hualien-city-taipei-1895448-2022-01-03'}]"
      ]
     },
     "execution_count": 7,
     "metadata": {},
     "output_type": "execute_result"
    }
   ],
   "source": [
    "news"
   ]
  },
  {
   "cell_type": "code",
   "execution_count": 17,
   "metadata": {},
   "outputs": [],
   "source": [
    "url=\"https://timesofindia.indiatimes.com/home/headlines\""
   ]
  },
  {
   "cell_type": "code",
   "execution_count": 18,
   "metadata": {},
   "outputs": [],
   "source": [
    "data=requests.get(url)"
   ]
  },
  {
   "cell_type": "code",
   "execution_count": 19,
   "metadata": {},
   "outputs": [],
   "source": [
    "soup=BeautifulSoup(data.text)"
   ]
  },
  {
   "cell_type": "code",
   "execution_count": 10,
   "metadata": {},
   "outputs": [],
   "source": [
    "news=[]\n",
    "for row in soup.find_all('li',{'class':'prime'}):\n",
    "    detail={}\n",
    "    detail['heading']=row.find('span').text\n",
    "    detail['link'] = row.find('h2').find('a').attrs.get('href')\n",
    "\n",
    "\n",
    "\n",
    "    news.append(detail)"
   ]
  },
  {
   "cell_type": "code",
   "execution_count": 27,
   "metadata": {},
   "outputs": [
    {
     "data": {
      "text/plain": [
       "[{'heading': 'Treatment that costs less than a cup of tea'},\n",
       " {'heading': \"'My husband died by suicide, then started the blaming and shaming'\"},\n",
       " {'heading': 'Why Sri Lanka’s economy is drowning'}]"
      ]
     },
     "execution_count": 27,
     "metadata": {},
     "output_type": "execute_result"
    }
   ],
   "source": [
    "news"
   ]
  },
  {
   "cell_type": "code",
   "execution_count": 19,
   "metadata": {},
   "outputs": [],
   "source": [
    "url=\"https://www.news18.com/\""
   ]
  },
  {
   "cell_type": "code",
   "execution_count": 20,
   "metadata": {},
   "outputs": [],
   "source": [
    "data=requests.get(url)"
   ]
  },
  {
   "cell_type": "code",
   "execution_count": 21,
   "metadata": {},
   "outputs": [],
   "source": [
    "soup=BeautifulSoup(data.text)"
   ]
  },
  {
   "cell_type": "code",
   "execution_count": 26,
   "metadata": {},
   "outputs": [],
   "source": [
    "news=[]\n",
    "for row in soup.find_all('li',{'class':'fnt-size-e'}):\n",
    "    detail={}\n",
    "    detail['heading']=row.find('h2').text\n",
    "    detail['link'] = row.find('h2').find('a').attrs.get('href')\n",
    "\n",
    "\n",
    "\n",
    "    news.append(detail)"
   ]
  },
  {
   "cell_type": "code",
   "execution_count": 27,
   "metadata": {},
   "outputs": [
    {
     "data": {
      "text/plain": [
       "[]"
      ]
     },
     "execution_count": 27,
     "metadata": {},
     "output_type": "execute_result"
    }
   ],
   "source": [
    "news"
   ]
  },
  {
   "cell_type": "code",
   "execution_count": null,
   "metadata": {},
   "outputs": [],
   "source": []
  }
 ],
 "metadata": {
  "interpreter": {
   "hash": "8da01e5a71448ea74f54d88afa8911010d1d12e23bc7e103d40d5def4a09152c"
  },
  "kernelspec": {
   "display_name": "Python 3.9.8 64-bit",
   "language": "python",
   "name": "python3"
  },
  "language_info": {
   "codemirror_mode": {
    "name": "ipython",
    "version": 3
   },
   "file_extension": ".py",
   "mimetype": "text/x-python",
   "name": "python",
   "nbconvert_exporter": "python",
   "pygments_lexer": "ipython3",
   "version": "3.9.8"
  },
  "orig_nbformat": 4
 },
 "nbformat": 4,
 "nbformat_minor": 2
}
