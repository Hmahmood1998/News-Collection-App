{
 "cells": [
  {
   "cell_type": "code",
   "execution_count": 1,
   "metadata": {},
   "outputs": [],
   "source": [
    "import requests\n",
    "from bs4 import BeautifulSoup "
   ]
  },
  {
   "cell_type": "code",
   "execution_count": null,
   "metadata": {},
   "outputs": [],
   "source": []
  },
  {
   "cell_type": "code",
   "execution_count": 2,
   "metadata": {},
   "outputs": [],
   "source": [
    "url=\"https://www.ndtv.com/top-stories\""
   ]
  },
  {
   "cell_type": "code",
   "execution_count": 3,
   "metadata": {},
   "outputs": [],
   "source": [
    "data=requests.get(url)"
   ]
  },
  {
   "cell_type": "code",
   "execution_count": 6,
   "metadata": {},
   "outputs": [],
   "source": [
    "# data.text"
   ]
  },
  {
   "cell_type": "code",
   "execution_count": 4,
   "metadata": {},
   "outputs": [],
   "source": [
    "soup=BeautifulSoup(data.text)\n",
    "# soup"
   ]
  },
  {
   "cell_type": "code",
   "execution_count": 7,
   "metadata": {},
   "outputs": [],
   "source": [
    "news = []\n",
    "for row in soup.find_all('div',{'class':'news_Itm'}):\n",
    "    detail = {}\n",
    "    if not  'adBg' in row.attrs.get('class'):\n",
    "        # print(row.find('h2').attrs.get('href'))\n",
    "        detail['link'] = row.find('h2').find('a').attrs.get('href')\n",
    "        # print(row.find('span').text)\n",
    "        detail['heading'] = row.find('h2').text\n",
    "\n",
    "        detail['Sourse']=row.find('span').text\n",
    "        # print(row.find('p').text)\n",
    "        detail['summary']=row.find('p').text\n",
    "        # print(row.find('img').attrs.get('src'))\n",
    "        detail['Image']=row.find('img').attrs.get('src')\n",
    "        # print()\n",
    "    news.append(detail)\n"
   ]
  },
  {
   "cell_type": "code",
   "execution_count": 2,
   "metadata": {},
   "outputs": [],
   "source": [
    "# news"
   ]
  },
  {
   "cell_type": "code",
   "execution_count": 2,
   "metadata": {},
   "outputs": [],
   "source": [
    "url=\"https://www.indiatoday.in/top-stories\""
   ]
  },
  {
   "cell_type": "code",
   "execution_count": 3,
   "metadata": {},
   "outputs": [],
   "source": [
    "data=requests.get(url)"
   ]
  },
  {
   "cell_type": "code",
   "execution_count": 4,
   "metadata": {},
   "outputs": [],
   "source": [
    "soup=BeautifulSoup(data.text)"
   ]
  },
  {
   "cell_type": "code",
   "execution_count": 5,
   "metadata": {},
   "outputs": [],
   "source": [
    "news=[]\n",
    "for row in soup.find_all('div',{'class':'catagory-listing'}):\n",
    "    detail={}\n",
    "\n",
    "    detail['heading']=row.find('h2').text\n",
    "    detail['summary']=row.find('p').text\n",
    "    detail['image']=row.find('div', {'class' : 'pic'}).find('img').attrs.get('src')\n",
    "    detail['link'] = row.find('h2').find('a').attrs.get('href')\n",
    "\n",
    "    news.append(detail)\n"
   ]
  },
  {
   "cell_type": "code",
   "execution_count": 20,
   "metadata": {},
   "outputs": [],
   "source": [
    "# news"
   ]
  },
  {
   "cell_type": "code",
   "execution_count": 2,
   "metadata": {},
   "outputs": [],
   "source": [
    "url=\"https://indianexpress.com/latest-news/\""
   ]
  },
  {
   "cell_type": "code",
   "execution_count": 3,
   "metadata": {},
   "outputs": [],
   "source": [
    "data=requests.get(url)"
   ]
  },
  {
   "cell_type": "code",
   "execution_count": 4,
   "metadata": {},
   "outputs": [],
   "source": [
    "soup=BeautifulSoup(data.text)"
   ]
  },
  {
   "cell_type": "code",
   "execution_count": 5,
   "metadata": {},
   "outputs": [],
   "source": [
    "news=[]\n",
    "for row in soup.find_all('div',{'class':'articles'}):\n",
    "    detail={}\n",
    "    # detail['heading'] = row.find('div').text\n",
    "    detail['sourse'] = row.find('div').text\n",
    "    detail['summary']=row.find('p').text\n",
    "    detail['image'] = row.find('div', {'class' : 'snaps'}).find('a').find('img').attrs.get('src')\n",
    "    detail['link'] = row.find('a').attrs.get('href')\n",
    "\n",
    "    news.append(detail)\n"
   ]
  },
  {
   "cell_type": "code",
   "execution_count": 21,
   "metadata": {},
   "outputs": [],
   "source": [
    "# news"
   ]
  },
  {
   "cell_type": "code",
   "execution_count": 15,
   "metadata": {},
   "outputs": [],
   "source": [
    "url=\"https://www.news18.com/\""
   ]
  },
  {
   "cell_type": "code",
   "execution_count": 16,
   "metadata": {},
   "outputs": [],
   "source": [
    "data=requests.get(url)"
   ]
  },
  {
   "cell_type": "code",
   "execution_count": 17,
   "metadata": {},
   "outputs": [],
   "source": [
    "soup=BeautifulSoup(data.text)"
   ]
  },
  {
   "cell_type": "code",
   "execution_count": 18,
   "metadata": {},
   "outputs": [],
   "source": [
    "news=[]\n",
    "for row in soup.find_all('li',{'class':'fnt-siz-e'}):\n",
    "    detail={}\n",
    "    detail['heading']=row.find('h2').text\n",
    "    detail['link'] = row.find('h2').find('a').attrs.get('href')\n",
    "\n",
    "\n",
    "\n",
    "    news.append(detail)"
   ]
  },
  {
   "cell_type": "code",
   "execution_count": 19,
   "metadata": {},
   "outputs": [
    {
     "data": {
      "text/plain": [
       "[]"
      ]
     },
     "execution_count": 19,
     "metadata": {},
     "output_type": "execute_result"
    }
   ],
   "source": [
    "news"
   ]
  },
  {
   "cell_type": "code",
   "execution_count": 28,
   "metadata": {},
   "outputs": [],
   "source": [
    "url=\"https://www.business-standard.com/most-read/list/day/relevance\""
   ]
  },
  {
   "cell_type": "code",
   "execution_count": 29,
   "metadata": {},
   "outputs": [],
   "source": [
    "data=requests.get(url)"
   ]
  },
  {
   "cell_type": "code",
   "execution_count": 30,
   "metadata": {},
   "outputs": [],
   "source": [
    "soup=BeautifulSoup(data.text)"
   ]
  },
  {
   "cell_type": "code",
   "execution_count": 37,
   "metadata": {},
   "outputs": [],
   "source": [
    "news=[]\n",
    "for row in soup.find('ul',{'class':'listing'}).find_all('li'):\n",
    "    detail={}\n",
    "    detail['heading']=row.find('h2').text\n",
    "    detail['summary']=row.find('p').text\n",
    "    detail['src']=row.find_all('p')[-1].text\n",
    "    \n",
    "    detail['link'] = row.find('h2').find('a').attrs.get('href')\n",
    "\n",
    "    news.append(detail)"
   ]
  },
  {
   "cell_type": "code",
   "execution_count": 2,
   "metadata": {},
   "outputs": [],
   "source": [
    "# news"
   ]
  },
  {
   "cell_type": "code",
   "execution_count": null,
   "metadata": {},
   "outputs": [],
   "source": [
    "url=\"https://timesofindia.indiatimes.com/\""
   ]
  },
  {
   "cell_type": "code",
   "execution_count": 2,
   "metadata": {},
   "outputs": [],
   "source": [
    "url=\"https://www.hindustantimes.com/latest-news\""
   ]
  },
  {
   "cell_type": "code",
   "execution_count": 4,
   "metadata": {},
   "outputs": [],
   "source": [
    "data=requests.get(url)"
   ]
  },
  {
   "cell_type": "code",
   "execution_count": 5,
   "metadata": {},
   "outputs": [],
   "source": [
    "soup=BeautifulSoup(data.text)"
   ]
  },
  {
   "cell_type": "code",
   "execution_count": 6,
   "metadata": {},
   "outputs": [],
   "source": [
    "news = []\n",
    "for row in soup.find_all('div',{'class':'cartHolder listView'}):\n",
    "    detail = {}\n",
    "    # if not  'adHeight200' or 'adHeight313' in row.attrs.get('class'):\n",
    "    detail['heading']=row.find('h3',{'class':'hdg3'}).find('a').text\n",
    "    detail['summary']=row.find('p').text\n",
    "    # detail['image']=row.find('div', {'class' : 'pic'}).find('img').attrs.get('src')\n",
    "    # detail['link'] = row.find('h2').find('a').attrs.get('href')\n",
    "\n",
    "    news.append(detail)"
   ]
  },
  {
   "cell_type": "code",
   "execution_count": 7,
   "metadata": {},
   "outputs": [
    {
     "data": {
      "text/plain": [
       "[]"
      ]
     },
     "execution_count": 7,
     "metadata": {},
     "output_type": "execute_result"
    }
   ],
   "source": [
    "news"
   ]
  },
  {
   "cell_type": "code",
   "execution_count": null,
   "metadata": {},
   "outputs": [],
   "source": []
  }
 ],
 "metadata": {
  "interpreter": {
   "hash": "8da01e5a71448ea74f54d88afa8911010d1d12e23bc7e103d40d5def4a09152c"
  },
  "kernelspec": {
   "display_name": "Python 3.9.8 64-bit",
   "language": "python",
   "name": "python3"
  },
  "language_info": {
   "codemirror_mode": {
    "name": "ipython",
    "version": 3
   },
   "file_extension": ".py",
   "mimetype": "text/x-python",
   "name": "python",
   "nbconvert_exporter": "python",
   "pygments_lexer": "ipython3",
   "version": "3.9.8"
  },
  "orig_nbformat": 4
 },
 "nbformat": 4,
 "nbformat_minor": 2
}
