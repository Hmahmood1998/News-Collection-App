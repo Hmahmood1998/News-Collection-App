{
 "cells": [
  {
   "cell_type": "code",
   "execution_count": 7,
   "metadata": {},
   "outputs": [],
   "source": [
    "import requests\n",
    "from bs4 import BeautifulSoup "
   ]
  },
  {
   "cell_type": "code",
   "execution_count": 2,
   "metadata": {},
   "outputs": [],
   "source": [
    "url=\"https://www.ndtv.com/top-stories\""
   ]
  },
  {
   "cell_type": "code",
   "execution_count": 3,
   "metadata": {},
   "outputs": [],
   "source": [
    "data=requests.get(url)"
   ]
  },
  {
   "cell_type": "code",
   "execution_count": 6,
   "metadata": {},
   "outputs": [],
   "source": [
    "# data.text"
   ]
  },
  {
   "cell_type": "code",
   "execution_count": 4,
   "metadata": {},
   "outputs": [],
   "source": [
    "soup=BeautifulSoup(data.text)\n",
    "# soup"
   ]
  },
  {
   "cell_type": "code",
   "execution_count": 7,
   "metadata": {},
   "outputs": [],
   "source": [
    "news = []\n",
    "for row in soup.find_all('div',{'class':'news_Itm'}):\n",
    "    detail = {}\n",
    "    if not  'adBg' in row.attrs.get('class'):\n",
    "        # print(row.find('h2').attrs.get('href'))\n",
    "        detail['link'] = row.find('h2').find('a').attrs.get('href')\n",
    "        # print(row.find('span').text)\n",
    "        detail['heading'] = row.find('h2').text\n",
    "\n",
    "        detail['Sourse']=row.find('span').text\n",
    "        # print(row.find('p').text)\n",
    "        detail['summary']=row.find('p').text\n",
    "        # print(row.find('img').attrs.get('src'))\n",
    "        detail['Image']=row.find('img').attrs.get('src')\n",
    "        # print()\n",
    "    news.append(detail)\n"
   ]
  },
  {
   "cell_type": "code",
   "execution_count": 2,
   "metadata": {},
   "outputs": [],
   "source": [
    "# news"
   ]
  },
  {
   "cell_type": "code",
   "execution_count": 5,
   "metadata": {},
   "outputs": [],
   "source": [
    "url=\"https://www.indiatoday.in/top-stories\""
   ]
  },
  {
   "cell_type": "code",
   "execution_count": 8,
   "metadata": {},
   "outputs": [],
   "source": [
    "data=requests.get(url)"
   ]
  },
  {
   "cell_type": "code",
   "execution_count": 9,
   "metadata": {},
   "outputs": [],
   "source": [
    "soup=BeautifulSoup(data.text)"
   ]
  },
  {
   "cell_type": "code",
   "execution_count": 10,
   "metadata": {},
   "outputs": [],
   "source": [
    "news=[]\n",
    "for row in soup.find_all('div',{'class':'catagory-listing'}):\n",
    "    detail={}\n",
    "\n",
    "    detail['heading']=row.find('h2').text\n",
    "\n",
    "    detail['summary']=row.find('p').text\n",
    "\n",
    "    detail['image']=row.find('img').attrs.get('src')\n",
    "\n",
    "    detail['link'] = row.find('h2').find('a').attrs.get('href')\n",
    "\n",
    "    news.append(detail)\n"
   ]
  },
  {
   "cell_type": "code",
   "execution_count": 11,
   "metadata": {},
   "outputs": [
    {
     "data": {
      "text/plain": [
       "[{'heading': \"Lt Gen Anindya Sengupta takes over as the next 'Fire and Fury' Corps Commander\",\n",
       "  'summary': \"Lieutenant General Anindya Sengupta on Wednesday took over as the General\\nOfficer Commanding of Leh-based 'Fire and Fury' Corps from Lt Gen PGK Menon.\",\n",
       "  'image': 'https://akm-img-a-in.tosshub.com/indiatoday/images/story/202201/Image_0_1200x768.jpeg?spk5JS1c1NBZELvOVL6tleyt9nkINfF_&size=170:96',\n",
       "  'link': '/defence/story/lt-gen-anindya-sengupta-takes-over-as-the-next-fire-and-fury-corps-commander-1896479-2022-01-05'},\n",
       " {'heading': \"Ajinkya and I are confident players, management's faith in us will pay off: Pujara\",\n",
       "  'summary': 'South Africa vs India 2nd Test: Cheteshwar Pujara said that the team\\nmanagement always supported him and Ajinkya Rahane after they put up a\\npartnership of 111 runs for the third wicket amid questions over their places\\nin the side due to poor form.',\n",
       "  'image': 'https://akm-img-a-in.tosshub.com/indiatoday/images/story/202201/pujara_rahane_reuters_1200x768.png?8leqCfbq52pj7yIIUQVQl9fHc.g27WFh&size=170:96',\n",
       "  'link': '/sports/cricket/story/sa-vs-ind-ajinkya-rahane-cheteshwar-pujara-confident-players-sunil-gavaskar-1896472-2022-01-05'},\n",
       " {'heading': \"Need people's support to ensure everyone wears masks and not panic: BBMP chief commissioner\",\n",
       "  'summary': 'India Today TV spoke to BBMP chief commissioner Gaurav Gupta on the new\\nmeasures and how ready\\xa0Bengaluru is to face the third wave of Covid-19.',\n",
       "  'image': 'https://akm-img-a-in.tosshub.com/indiatoday/images/story/202201/bengalurumasks_1200x768.jpeg?aSYVmpTRD39LnRAr25RcfjBkv8teGyMF&size=170:96',\n",
       "  'link': '/coronavirus-outbreak/story/covid-omicron-masks-bengaluru-karnataka-bbmp-chief-commissioner-1896473-2022-01-05'},\n",
       " {'heading': '32 retired Indian diplomats back Modi govt amid hate speech controversy',\n",
       "  'summary': 'A joint statement issued by 32 retired Indian diplomats questioned ‘double\\nstandards’ by those who condemn hate speeches only to suit their\\n‘political agenda’ and as a sustained ‘smear campaign’ against the\\nModi government.',\n",
       "  'image': 'https://akm-img-a-in.tosshub.com/indiatoday/images/story/202201/narendra_modi_1200x768.jpeg?LhNV8pXx126VIDhrq33dcl8mzOaG8ky_&size=170:96',\n",
       "  'link': '/india/story/retired-indian-diplomats-back-modi-govt-hate-speech-1896466-2022-01-05'},\n",
       " {'heading': \"PM security breach: Protesters seen close to PM Modi's car | Video\",\n",
       "  'summary': 'Prime Minister Narendra Modi’s proposed event at Ferozepur in Punjab was\\ncancelled on Wednesday after his convoy was stuck on a flyover for 15-20\\nminutes as the road was blocked by protesters near the National Martyrs\\nMemorial in Hussainiwala.',\n",
       "  'image': 'https://akm-img-a-in.tosshub.com/indiatoday/images/story/202201/Modi-convoy-blocked-770x433_1200x768.jpeg?eiFz5bDC4YfkihS9Uxv.pXMh7rAe_g2c&size=170:96',\n",
       "  'link': '/india/story/pm-security-breach-protesters-seen-close-to-pm-modi-car-video-1896465-2022-01-05'},\n",
       " {'heading': \"PM Modi security lapse in Punjab: BJP, Congress fight over 'khooni' intent\",\n",
       "  'summary': \"While Punjab CM Channi said that there was no security breach and no danger\\nto PM Modi's life, BJP leader Smriti Irani claimed that the 'khooni' intent\\nof the Congress failed at the holy land of Punjab.\",\n",
       "  'image': 'https://akm-img-a-in.tosshub.com/indiatoday/images/story/202201/Cover-image-(1).jpg?0AQ12WDE2qo6AxnwDiL8_mLPsH2Ja8kR&size=170:96',\n",
       "  'link': '/india/story/pm-modi-security-lapse-congress-bjp-smriti-irani-punjab-cm-charanjit-singh-channi-1896464-2022-01-05'},\n",
       " {'heading': 'Novak Djokovic denied entry to Australia after visa mix-up',\n",
       "  'summary': 'Australia Open 2022: Novak Djokovic landed in Australia on Wednesday but his\\nentry into the country has been delayed due to visa issues.',\n",
       "  'image': 'https://akm-img-a-in.tosshub.com/indiatoday/images/story/202201/2022-01-05T105033Z_1178116979__1200x768.png?iDMXJ_kGkjqqrxWlKN0ej_MqzEigMxLx&size=170:96',\n",
       "  'link': '/sports/tennis/story/novak-djokovic-denied-entry-to-australia-after-mix-up-with-visa-application-1896462-2022-01-05'},\n",
       " {'heading': 'Milind shares loved-up pics with Ankita from their New Year vacation in Jaisalmer',\n",
       "  'summary': 'Milind Soman took to Instagram to share loved-up pictures with Ankita Konwar\\nfrom their New Year vacation in Jaisalmer, Rajasthan.',\n",
       "  'image': 'https://akm-img-a-in.tosshub.com/indiatoday/images/story/202201/BeFunky-collage_-_2022-01-05T2.jpg?3eLOVBRRW5CtDmOycJ1kQAgNBm6fIuNX&size=170:96',\n",
       "  'link': '/lifestyle/celebrity/story/milind-soman-shares-loved-up-pics-with-ankita-konwar-from-their-new-year-vacation-in-jaisalmer-1896461-2022-01-05'},\n",
       " {'heading': '29-yr-old London man uses billboard ad to find a wife',\n",
       "  'summary': 'The billboards feature Muhammad Malik lying down on a purple screen and\\npointing at a line, “Save me from an arranged marriage.”',\n",
       "  'image': 'https://akm-img-a-in.tosshub.com/indiatoday/images/story/202201/BeFunky-collage_-_2022-01-05T1_4.jpg?.FWri0rBE9rNKSo6O4uXB2syw8301WHQ&size=170:96',\n",
       "  'link': '/trending-news/story/29-yr-old-london-man-uses-billboard-ad-to-find-a-wife-internet-is-amused-1896456-2022-01-05'},\n",
       " {'heading': \"No crowds to listen to PM: Congress chides BJP over postponement of Modi's Punjab rally\",\n",
       "  'summary': \"After PM Modi's Punjab rally got postponed on Wednesday, Congress chief\\nspokesperson Randeep Surjewala on Wednesday took a dig at the BJP, saying\\nthere were no crowds at the public event organised by the party in Ferozepur.\",\n",
       "  'image': 'https://akm-img-a-in.tosshub.com/indiatoday/images/story/202201/surje1_1200x768.jpeg?MIGi5Qgyveee6gW4er05iBDOOO5KGdKn&size=170:96',\n",
       "  'link': '/india/story/pm-modi-congress-bjp-punjab-ferozepur-rally-randeep-surjewala-nadda-1896457-2022-01-05'},\n",
       " {'heading': 'PM security is as per MHA’s Blue Book instructions issued to states, say officials | Exclusive ',\n",
       "  'summary': 'PM’s security during state visits is as per instructions given in Blue Book\\nissued to states by MHA, said top officials who have served in the SPG.',\n",
       "  'image': 'https://akm-img-a-in.tosshub.com/indiatoday/images/story/202201/sulb2rag_pm-security-lapse_625_1200x768.jpeg?ZY3LvHYTYyMYkxYBSHHCQq6i5fPMQxSu&size=170:96',\n",
       "  'link': '/india/story/pm-security-as-per-mha-blue-book-instructions-issued-to-states-say-officials-exclusive-1896454-2022-01-05'},\n",
       " {'heading': 'India’s Covid case jumped 6 times in last eight days: Govt',\n",
       "  'summary': 'Maharashtra, West Bengal, Delhi, Kerala, Tamil Nadu, Karnataka, Jharkhand and\\nGujarat are emerging as the states of concern, said the Centre.',\n",
       "  'image': 'https://akm-img-a-in.tosshub.com/indiatoday/images/story/202201/6e4821f3-be0a-4403-8ac3-a7cc13_1200x768.jpeg?kfdOHYk37YVUvgflpjAb9C6ERPmBAJ8a&size=170:96',\n",
       "  'link': '/coronavirus-outbreak/story/covid-19-omicron-cases-jump-in-india-1896453-2022-01-05'}]"
      ]
     },
     "execution_count": 11,
     "metadata": {},
     "output_type": "execute_result"
    }
   ],
   "source": [
    "news"
   ]
  },
  {
   "cell_type": "code",
   "execution_count": 12,
   "metadata": {},
   "outputs": [],
   "source": [
    "url=\"https://indianexpress.com/latest-news/\""
   ]
  },
  {
   "cell_type": "code",
   "execution_count": 13,
   "metadata": {},
   "outputs": [],
   "source": [
    "data=requests.get(url)"
   ]
  },
  {
   "cell_type": "code",
   "execution_count": 14,
   "metadata": {},
   "outputs": [],
   "source": [
    "soup=BeautifulSoup(data.text)"
   ]
  },
  {
   "cell_type": "code",
   "execution_count": 18,
   "metadata": {},
   "outputs": [],
   "source": [
    "news=[]\n",
    "for row in soup.find_all('div',{'class':'articles'}):\n",
    "    detail={}\n",
    "    # detail['heading'] = row.find('div').text\n",
    "    detail['sourse'] = row.find('div').text\n",
    "    detail['summary']=row.find('p').text\n",
    "    detail['image']=row.find('img').attrs.get('src')\n",
    "    detail['link'] = row.find('a').attrs.get('href')\n",
    "\n",
    "    news.append(detail)\n"
   ]
  },
  {
   "cell_type": "code",
   "execution_count": 19,
   "metadata": {},
   "outputs": [
    {
     "data": {
      "text/plain": [
       "[{'sourse': 'Updated: January 5, 2022  10:27:13 pm',\n",
       "  'summary': '🔴  Tamil Nadu Omicron Coronavirus Cases Live Updates, Tamil Nadu Sunday Lockdown, Chennai Omicron Covid-19 Cases Today News Live, Chennai Travel Guidelines, 5 January: According to the latest guidelines issued, all busses, trains, metros will operate at 50 per cent occupancy.',\n",
       "  'image': 'https://indianexpress.com/wp-content/plugins/lazy-load/images/1x1.trans.gif',\n",
       "  'link': 'https://indianexpress.com/article/cities/chennai/chennai-news-live-updates-traffic-weather-mk-stalin-omicron-covid-19-rules-7706861/'},\n",
       " {'sourse': 'January 5, 2022 10:25:44 pm',\n",
       "  'summary': 'City and fire officials did not release the names or ages of those killed in the blaze, which started before 6:30 a.m.',\n",
       "  'image': 'https://indianexpress.com/wp-content/plugins/lazy-load/images/1x1.trans.gif',\n",
       "  'link': 'https://indianexpress.com/article/world/philadelphia-fire-children-death-7708568/'},\n",
       " {'sourse': 'Updated: January 5, 2022  10:31:26 pm',\n",
       "  'summary': 'With a surge of Covid cases in Goa, the state has directed officials to follow special surveillance measures for arrivals from the neighbouring state.\\r\\n',\n",
       "  'image': 'https://indianexpress.com/wp-content/plugins/lazy-load/images/1x1.trans.gif',\n",
       "  'link': 'https://indianexpress.com/article/cities/bangalore/karnataka-covid-wrap-4246-fresh-cases-almost-twice-the-previous-day-tally-7708569/'},\n",
       " {'sourse': 'January 5, 2022 10:21:26 pm',\n",
       "  'summary': '🔴 Bolsonaro, who has been in power since 2019 and plans to stand for re-election in a presidential vote scheduled for October, said he will maintain his regular agenda, including a trip to Russia in February.',\n",
       "  'image': 'https://indianexpress.com/wp-content/plugins/lazy-load/images/1x1.trans.gif',\n",
       "  'link': 'https://indianexpress.com/article/world/brazilian-president-jair-bolsonaro-discharged-hospital-gut-blockage-cleared-7708447/'},\n",
       " {'sourse': 'January 5, 2022 10:19:31 pm',\n",
       "  'summary': 'As many as 688 people recovered in the past 24 hours leaving 16,577 active infections.',\n",
       "  'image': 'https://indianexpress.com/wp-content/plugins/lazy-load/images/1x1.trans.gif',\n",
       "  'link': 'https://indianexpress.com/article/cities/chennai/tamil-nadu-adds-4862-covid-19-cases-chennai-tops-the-list-7708432/'},\n",
       " {'sourse': 'Updated: January 5, 2022  10:17:48 pm',\n",
       "  'summary': \"This December gave us a self-aware and fleet-footed film Minnal Murali, as well as a superficial and unoriginal new series Decoupled. Raja Sen's verdict about the month gone by. \",\n",
       "  'image': 'https://indianexpress.com/wp-content/plugins/lazy-load/images/1x1.trans.gif',\n",
       "  'link': 'https://indianexpress.com/article/entertainment/web-series/the-verdict-super-new-film-minnal-murali-superficial-decoupled-7705733/'},\n",
       " {'sourse': 'Updated: January 5, 2022  10:15:24 pm',\n",
       "  'summary': \"PM Modi's cavalcade was stranded on a flyover for over 15 minutes as protesters blocked his way.\",\n",
       "  'image': 'https://indianexpress.com/wp-content/plugins/lazy-load/images/1x1.trans.gif',\n",
       "  'link': 'https://indianexpress.com/article/cities/chandigarh/pm-modi-skips-punjab-rally-over-security-breach-7707554/'},\n",
       " {'sourse': 'Updated: January 5, 2022  10:12:49 pm',\n",
       "  'summary': 'Novak Djokovic touches down in Melbourne, awaiting clearance from federal government.',\n",
       "  'image': 'https://indianexpress.com/wp-content/plugins/lazy-load/images/1x1.trans.gif',\n",
       "  'link': 'https://indianexpress.com/article/sports/tennis/novak-djokovic-faced-with-visa-bungle-as-he-lands-in-australia-7708435/'},\n",
       " {'sourse': 'Updated: January 5, 2022  10:10:35 pm',\n",
       "  'summary': \"Union Home Minister Amit Shah alleged that repeated poll defeats have led Congress to 'insanity'.\",\n",
       "  'image': 'https://indianexpress.com/wp-content/plugins/lazy-load/images/1x1.trans.gif',\n",
       "  'link': 'https://indianexpress.com/article/india/bjp-on-punjab-security-breach-pm-modi-irani-7707941/'},\n",
       " {'sourse': 'January 5, 2022 10:09:58 pm',\n",
       "  'summary': 'On her birthday, Deepika Padukone posted a video which is a collection of several behind-the-scenes moments from her personal and professional life.',\n",
       "  'image': 'https://indianexpress.com/wp-content/plugins/lazy-load/images/1x1.trans.gif',\n",
       "  'link': 'https://indianexpress.com/article/entertainment/bollywood/deepika-padukone-wraps-her-birthday-with-a-heartfelt-video-7708459/'},\n",
       " {'sourse': 'Updated: January 5, 2022  10:09:36 pm',\n",
       "  'summary': 'A 73-year-old man, who was found infected with Omicron in genome sequencing and who had tested negative for the infection twice, died in a Udaipur hospital on December 31.',\n",
       "  'image': 'https://indianexpress.com/wp-content/plugins/lazy-load/images/1x1.trans.gif',\n",
       "  'link': 'https://indianexpress.com/article/india/covid-india-records-first-omicron-death-7707730/'},\n",
       " {'sourse': 'Updated: January 5, 2022  10:05:06 pm',\n",
       "  'summary': 'Before takeoff, flight crews at a base in the southern city of Chiayi - home to U.S.-made F-16 fighter jets that are frequently scrambled to intercept Chinese warplanes - rushed to ready aircraft as an alarm sounded.',\n",
       "  'image': 'https://indianexpress.com/wp-content/plugins/lazy-load/images/1x1.trans.gif',\n",
       "  'link': 'https://indianexpress.com/article/world/taiwan-air-force-stages-drill-to-intercept-chinese-planes-7708464/'},\n",
       " {'sourse': 'Updated: January 5, 2022  9:58:49 pm',\n",
       "  'summary': 'Assembly Elections 2022 Live Updates: After PM Narendra Modi skipped a rally in Punjab on Wednesday over a security lapse that had him stuck on a bridge on way to Hussainiwala, CM Charanjit Singh Channi claimed the \"Prime Minister was not attacked and there was no threat to his life\"',\n",
       "  'image': 'https://indianexpress.com/wp-content/plugins/lazy-load/images/1x1.trans.gif',\n",
       "  'link': 'https://indianexpress.com/article/india/assembly-elections-2022-live-pdates-uttarakhand-goa-punjab-uttar-pradesh-manipur-narendra-modi-rally-congress-bjp-7706870/'},\n",
       " {'sourse': 'Updated: January 5, 2022  9:54:22 pm',\n",
       "  'summary': 'A show-cause notice has been slapped on Xiaomi India following recovery of documents during searches on its premises that indicated remittance of royalty and licence fee to US and Chinese firms under contractual obligations.',\n",
       "  'image': 'https://indianexpress.com/wp-content/plugins/lazy-load/images/1x1.trans.gif',\n",
       "  'link': 'https://indianexpress.com/article/business/india-slaps-rs-653-cr-import-duty-evasion-notice-on-xiaomi-7707940/'},\n",
       " {'sourse': 'January 5, 2022 9:54:00 pm',\n",
       "  'summary': '🔴 Following the amendment, the temple administration and concerned officials now have the power to sell or lease out temple land, without any approval from the state government.',\n",
       "  'image': 'https://indianexpress.com/wp-content/plugins/lazy-load/images/1x1.trans.gif',\n",
       "  'link': 'https://indianexpress.com/article/explained/amendment-to-jagannath-temple-act-7708161/'},\n",
       " {'sourse': 'Updated: January 5, 2022  9:52:33 pm',\n",
       "  'summary': 'In an exclusive interview with indianexpress.com, Brian Leonard, Vice-President of Design, Intelligent Devices Group, Lenovo, explains the logic behind the additional screen on the ThinkBook Plus Gen 3.',\n",
       "  'image': 'https://indianexpress.com/wp-content/plugins/lazy-load/images/1x1.trans.gif',\n",
       "  'link': 'https://indianexpress.com/article/technology/laptops/lenovo-vp-design-brian-leonard-interview-ces-2022-7708003/'},\n",
       " {'sourse': 'January 5, 2022 9:52:16 pm',\n",
       "  'summary': '“National parties have a vast scope. To be able to work for the people of the region, I have realised that it can be done only through a regional party,” D Korungthang said.',\n",
       "  'image': 'https://indianexpress.com/wp-content/plugins/lazy-load/images/1x1.trans.gif',\n",
       "  'link': 'https://indianexpress.com/article/north-east-india/manipur/d-korungthang-congress-npf-7708397/'},\n",
       " {'sourse': 'January 5, 2022 9:30:32 pm',\n",
       "  'summary': 'Mimi Chakraborty said she contacted the coronavirus despite any public interactions and is currently under home isolation.',\n",
       "  'image': 'https://indianexpress.com/wp-content/plugins/lazy-load/images/1x1.trans.gif',\n",
       "  'link': 'https://indianexpress.com/article/entertainment/regional/mimi-chakraborty-tests-positive-for-covid-19-it-has-got-me-pretty-bad-7708147/'},\n",
       " {'sourse': 'Updated: January 5, 2022  9:27:59 pm',\n",
       "  'summary': '🔴 Ahmed, a former chairman of Tulsipur Nagar panchayat, was returning home after campaigning for the upcoming Uttar Pradesh elections when the assailants slit his throat, police said.\\r\\n',\n",
       "  'image': 'https://indianexpress.com/wp-content/plugins/lazy-load/images/1x1.trans.gif',\n",
       "  'link': 'https://indianexpress.com/article/india/up-sp-leader-firoz-ahmed-killed-by-unidentified-assailants-7707732/'},\n",
       " {'sourse': 'Updated: January 5, 2022  9:27:07 pm',\n",
       "  'summary': 'India vs South Africa 2nd Test Live Match Score, IND vs SA Cricket Match Live Scorecard: SA need 240 runs to win the match.',\n",
       "  'image': 'https://indianexpress.com/wp-content/plugins/lazy-load/images/1x1.trans.gif',\n",
       "  'link': 'https://indianexpress.com/article/sports/cricket/india-vs-south-africa-2nd-test-day-3-live-score-updates-7707086/'},\n",
       " {'sourse': 'January 5, 2022 9:24:37 pm',\n",
       "  'summary': 'Neil and the entire Choir were in Mumbai for the past three months on work. \"He was admitted to the hospital yesterday and passed away in the evening today after a surgery,\" a spokesman for the group told PTI.',\n",
       "  'image': 'https://indianexpress.com/wp-content/plugins/lazy-load/images/1x1.trans.gif',\n",
       "  'link': 'https://indianexpress.com/article/lifestyle/art-and-culture/shillong-chamber-choir-founder-neil-nongkynrih-dead-7708285/'},\n",
       " {'sourse': 'January 5, 2022 9:21:04 pm',\n",
       "  'summary': 'Miles of steel fencing that ringed the Capitol complex after the riot came down in July. The thousands of armed National Troops deployed immediately after the Jan. 6, 2021, attack have long gone home.',\n",
       "  'image': 'https://indianexpress.com/wp-content/plugins/lazy-load/images/1x1.trans.gif',\n",
       "  'link': 'https://indianexpress.com/article/world/riot-shields-metal-detectors-us-capitol-assault-7708112/'},\n",
       " {'sourse': 'January 5, 2022 9:20:53 pm',\n",
       "  'summary': 'Union Minister Santanu Thakur and several BJP MLAs from the politically-influential Matua community have left various WhatsApp groups of West Bengal BJP in protest against non-inclusion of Matua leaders in newly-constituted state and district party committees.',\n",
       "  'image': 'https://indianexpress.com/wp-content/plugins/lazy-load/images/1x1.trans.gif',\n",
       "  'link': 'https://indianexpress.com/article/india/political-pulse/bengal-bjp-matua-leaders-7708250/'},\n",
       " {'sourse': 'January 5, 2022 9:18:26 pm',\n",
       "  'summary': 'Sharing the selfie on Instagram, the actor added that he was a guest at the event, where items worth a whopping $2.5 million were destroyed.',\n",
       "  'image': 'https://indianexpress.com/wp-content/plugins/lazy-load/images/1x1.trans.gif',\n",
       "  'link': 'https://indianexpress.com/article/trending/trending-globally/pak-actor-adnan-siddiqui-selfie-with-fire-meme-7707817/'},\n",
       " {'sourse': 'January 5, 2022 9:11:32 pm',\n",
       "  'summary': 'Initially, the casualty was eight and the passengers were shifted to Amrapara Block’s Community Health Center, later, the number of deceased rose to 16, police said.',\n",
       "  'image': 'https://indianexpress.com/wp-content/plugins/lazy-load/images/1x1.trans.gif',\n",
       "  'link': 'https://indianexpress.com/article/india/16-killed-25-injured-in-head-on-bus-truck-collision-in-jharkhands-pakur-7708152/'}]"
      ]
     },
     "execution_count": 19,
     "metadata": {},
     "output_type": "execute_result"
    }
   ],
   "source": [
    "news"
   ]
  },
  {
   "cell_type": "code",
   "execution_count": 3,
   "metadata": {},
   "outputs": [],
   "source": [
    "url=\"https://www.news18.com/\""
   ]
  },
  {
   "cell_type": "code",
   "execution_count": 4,
   "metadata": {},
   "outputs": [],
   "source": [
    "data=requests.get(url)"
   ]
  },
  {
   "cell_type": "code",
   "execution_count": 5,
   "metadata": {},
   "outputs": [],
   "source": [
    "soup=BeautifulSoup(data.text)"
   ]
  },
  {
   "cell_type": "code",
   "execution_count": 6,
   "metadata": {},
   "outputs": [],
   "source": [
    "news=[]\n",
    "for row in soup.find_all('li',{'class':'fnt-siz-e'}):\n",
    "    detail={}\n",
    "    detail['heading']=row.find('h2').text\n",
    "    detail['link'] = row.find('h2').find('a').attrs.get('href')\n",
    "\n",
    "\n",
    "\n",
    "    news.append(detail)"
   ]
  },
  {
   "cell_type": "code",
   "execution_count": 7,
   "metadata": {},
   "outputs": [
    {
     "data": {
      "text/plain": [
       "[]"
      ]
     },
     "execution_count": 7,
     "metadata": {},
     "output_type": "execute_result"
    }
   ],
   "source": [
    "news"
   ]
  },
  {
   "cell_type": "code",
   "execution_count": 6,
   "metadata": {},
   "outputs": [],
   "source": [
    "url=\"https://www.business-standard.com/most-read/list/day/relevance\""
   ]
  },
  {
   "cell_type": "code",
   "execution_count": 7,
   "metadata": {},
   "outputs": [],
   "source": [
    "data=requests.get(url)"
   ]
  },
  {
   "cell_type": "code",
   "execution_count": 9,
   "metadata": {},
   "outputs": [],
   "source": [
    "soup=BeautifulSoup(data.text)"
   ]
  },
  {
   "cell_type": "code",
   "execution_count": 8,
   "metadata": {},
   "outputs": [],
   "source": [
    "news=[]\n",
    "for row in soup.find('ul',{'class':'listing'}):\n",
    "    detail={}\n",
    "    detail['heading']=row.find('h2').text\n",
    "    detail['summary']=row.find_all('p')[-1].text\n",
    "    detail['link'] = row.find('h2').find('a').attrs.get('href')\n",
    "    detail['image']=row.find('img').attrs.get('src')\n",
    "\n",
    "    news.append(detail)"
   ]
  },
  {
   "cell_type": "code",
   "execution_count": 9,
   "metadata": {},
   "outputs": [
    {
     "data": {
      "text/plain": [
       "[]"
      ]
     },
     "execution_count": 9,
     "metadata": {},
     "output_type": "execute_result"
    }
   ],
   "source": [
    "news"
   ]
  },
  {
   "cell_type": "code",
   "execution_count": null,
   "metadata": {},
   "outputs": [],
   "source": []
  }
 ],
 "metadata": {
  "interpreter": {
   "hash": "8da01e5a71448ea74f54d88afa8911010d1d12e23bc7e103d40d5def4a09152c"
  },
  "kernelspec": {
   "display_name": "Python 3.9.8 64-bit",
   "language": "python",
   "name": "python3"
  },
  "language_info": {
   "codemirror_mode": {
    "name": "ipython",
    "version": 3
   },
   "file_extension": ".py",
   "mimetype": "text/x-python",
   "name": "python",
   "nbconvert_exporter": "python",
   "pygments_lexer": "ipython3",
   "version": "3.9.8"
  },
  "orig_nbformat": 4
 },
 "nbformat": 4,
 "nbformat_minor": 2
}
