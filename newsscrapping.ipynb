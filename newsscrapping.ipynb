{
 "cells": [
  {
   "cell_type": "code",
   "execution_count": 1,
   "metadata": {},
   "outputs": [],
   "source": [
    "import requests\n",
    "from bs4 import BeautifulSoup "
   ]
  },
  {
   "cell_type": "code",
   "execution_count": 13,
   "metadata": {},
   "outputs": [],
   "source": [
    "url=\"https://www.ndtv.com/top-stories\""
   ]
  },
  {
   "cell_type": "code",
   "execution_count": 14,
   "metadata": {},
   "outputs": [],
   "source": [
    "data=requests.get(url)"
   ]
  },
  {
   "cell_type": "code",
   "execution_count": 6,
   "metadata": {},
   "outputs": [],
   "source": [
    "# data.text"
   ]
  },
  {
   "cell_type": "code",
   "execution_count": 15,
   "metadata": {},
   "outputs": [],
   "source": [
    "soup=BeautifulSoup(data.text)\n",
    "# soup"
   ]
  },
  {
   "cell_type": "code",
   "execution_count": 21,
   "metadata": {},
   "outputs": [],
   "source": [
    "news = []\n",
    "for row in soup.find_all('div',{'class':'news_Itm'}):\n",
    "    detail = {}\n",
    "    if not  'adBg' in row.attrs.get('class'):\n",
    "        # print(row.find('h2').attrs.get('href'))\n",
    "        detail['link'] = row.find('h2').find('a').attrs.get('href')\n",
    "        # print(row.find('span').text)\n",
    "        detail['heading'] = row.find('h2').text\n",
    "\n",
    "        detail['Sourse']=row.find('span').text\n",
    "        # print(row.find('p').text)\n",
    "        detail['Paragraph']=row.find('p').text\n",
    "        # print(row.find('img').attrs.get('src'))\n",
    "        detail['Image']=row.find('img').attrs.get('src')\n",
    "        # print()\n",
    "    news.append(detail)\n"
   ]
  },
  {
   "cell_type": "code",
   "execution_count": 2,
   "metadata": {},
   "outputs": [],
   "source": [
    "# news"
   ]
  },
  {
   "cell_type": "code",
   "execution_count": 2,
   "metadata": {},
   "outputs": [],
   "source": [
    "url=\"https://www.indiatoday.in/top-stories\""
   ]
  },
  {
   "cell_type": "code",
   "execution_count": 3,
   "metadata": {},
   "outputs": [],
   "source": [
    "data=requests.get(url)"
   ]
  },
  {
   "cell_type": "code",
   "execution_count": 4,
   "metadata": {},
   "outputs": [],
   "source": [
    "soup=BeautifulSoup(data.text)"
   ]
  },
  {
   "cell_type": "code",
   "execution_count": 6,
   "metadata": {},
   "outputs": [],
   "source": [
    "news=[]\n",
    "for row in soup.find_all('div',{'class':'catagory-listing'}):\n",
    "    detail={}\n",
    "\n",
    "    detail['heading']=row.find('h2').text\n",
    "\n",
    "    detail['summary']=row.find('p').text\n",
    "\n",
    "    detail['image']=row.find('img').attrs.get('src')\n",
    "\n",
    "    detail['link'] = row.find('h2').find('a').attrs.get('href')\n",
    "\n",
    "    news.append(detail)\n"
   ]
  },
  {
   "cell_type": "code",
   "execution_count": 1,
   "metadata": {},
   "outputs": [],
   "source": [
    "# news"
   ]
  },
  {
   "cell_type": "code",
   "execution_count": 17,
   "metadata": {},
   "outputs": [],
   "source": [
    "url=\"https://timesofindia.indiatimes.com/home/headlines\""
   ]
  },
  {
   "cell_type": "code",
   "execution_count": 18,
   "metadata": {},
   "outputs": [],
   "source": [
    "data=requests.get(url)"
   ]
  },
  {
   "cell_type": "code",
   "execution_count": 19,
   "metadata": {},
   "outputs": [],
   "source": [
    "soup=BeautifulSoup(data.text)"
   ]
  },
  {
   "cell_type": "code",
   "execution_count": 10,
   "metadata": {},
   "outputs": [],
   "source": [
    "news=[]\n",
    "for row in soup.find_all('li',{'class':'prime'}):\n",
    "    detail={}\n",
    "    detail['heading']=row.find('span').text\n",
    "    detail['link'] = row.find('h2').find('a').attrs.get('href')\n",
    "\n",
    "\n",
    "\n",
    "    news.append(detail)"
   ]
  },
  {
   "cell_type": "code",
   "execution_count": 27,
   "metadata": {},
   "outputs": [
    {
     "data": {
      "text/plain": [
       "[{'heading': 'Treatment that costs less than a cup of tea'},\n",
       " {'heading': \"'My husband died by suicide, then started the blaming and shaming'\"},\n",
       " {'heading': 'Why Sri Lanka’s economy is drowning'}]"
      ]
     },
     "execution_count": 27,
     "metadata": {},
     "output_type": "execute_result"
    }
   ],
   "source": [
    "news"
   ]
  },
  {
   "cell_type": "code",
   "execution_count": 3,
   "metadata": {},
   "outputs": [],
   "source": [
    "url=\"https://www.news18.com/\""
   ]
  },
  {
   "cell_type": "code",
   "execution_count": 4,
   "metadata": {},
   "outputs": [],
   "source": [
    "data=requests.get(url)"
   ]
  },
  {
   "cell_type": "code",
   "execution_count": 5,
   "metadata": {},
   "outputs": [],
   "source": [
    "soup=BeautifulSoup(data.text)"
   ]
  },
  {
   "cell_type": "code",
   "execution_count": 6,
   "metadata": {},
   "outputs": [],
   "source": [
    "news=[]\n",
    "for row in soup.find_all('li',{'class':'fnt-siz-e'}):\n",
    "    detail={}\n",
    "    detail['heading']=row.find('h2').text\n",
    "    detail['link'] = row.find('h2').find('a').attrs.get('href')\n",
    "\n",
    "\n",
    "\n",
    "    news.append(detail)"
   ]
  },
  {
   "cell_type": "code",
   "execution_count": 7,
   "metadata": {},
   "outputs": [
    {
     "data": {
      "text/plain": [
       "[]"
      ]
     },
     "execution_count": 7,
     "metadata": {},
     "output_type": "execute_result"
    }
   ],
   "source": [
    "news"
   ]
  },
  {
   "cell_type": "code",
   "execution_count": 2,
   "metadata": {},
   "outputs": [],
   "source": [
    "url=\"https://indianexpress.com/latest-news/\""
   ]
  },
  {
   "cell_type": "code",
   "execution_count": 3,
   "metadata": {},
   "outputs": [],
   "source": [
    "data=requests.get(url)"
   ]
  },
  {
   "cell_type": "code",
   "execution_count": 4,
   "metadata": {},
   "outputs": [],
   "source": [
    "soup=BeautifulSoup(data.text)"
   ]
  },
  {
   "cell_type": "code",
   "execution_count": 5,
   "metadata": {},
   "outputs": [],
   "source": [
    "news=[]\n",
    "for row in soup.find_all('div',{'class':'articles'}):\n",
    "    detail={}\n",
    "    detail['heading']=row.find('p').text\n",
    "\n",
    "    news.append(detail)\n",
    "\n"
   ]
  },
  {
   "cell_type": "code",
   "execution_count": 6,
   "metadata": {},
   "outputs": [
    {
     "data": {
      "text/plain": [
       "[{'heading': '\"PM\\'s silence is deafening. Our land, our people, our borders deserve better,\" Rahul Gandhi tweeted.'},\n",
       " {'heading': 'Soldier Pappu Gurjar had gone to meet the director of a private school in Kanwada village on Monday after his daughter complained that she was slapped by a teacher for not completing homework, police said.'},\n",
       " {'heading': 'All Delhi government and municipal officials not involved in essential services will work from home. Private offices will be allowed to call 50 per cent of their staff to the office, the Deputy CM said.'},\n",
       " {'heading': 'HTET result 2021: The IRIS biometric lists will be released for all three levels and can be downloaded from bseh.org.in.'},\n",
       " {'heading': 'Former Bengal captain Laxmi Ratan Shukla, who is also the current Under-23 coach of the state team, has also tested positive for the virus.'},\n",
       " {'heading': 'In a statement Tuesday, the Delhi University Democratic Teachers’ Front (DTF) criticised the move, saying the government should not be guided by job prospects only while deciding on such matters.'},\n",
       " {'heading': 'Searches are being carried out at the business premises of real estate company ACE Group and its promoter Ajay Chaudhary in Delhi, Noida and Greater Noida. Chaudhary is said to be close to Samajwadi Party (SP). '},\n",
       " {'heading': 'Congress leaders in Lucknow termed it a conspiracy hatched by the BJP-led Uttar Pradesh government.\\r\\n'},\n",
       " {'heading': '\"Her Majesty thought it was kind of you to write to her, and the Queen was pleased to see the photograph of your daughter, Jalayne, in her splendid outfit,\" the letter reads.'},\n",
       " {'heading': \"BTS's Jin and RM have been released from quarantine and their agency Big Hit released a statement saying that they would be resuming their normal activities soon.\"},\n",
       " {'heading': 'No one actually received effective treatment at Amma mini clinics, alleged Health Minister Ma Subramanian. DMK government schemes like Makkalai Thedi Maruthuvum, Inniyur Kaapom, Subramanian have the data of persons who were provided treatment but no such data are available for Amma mini-clinics, he said. '},\n",
       " {'heading': 'India vs South Africa 2nd Test Live Match Score, IND vs SA Cricket Match Live Scorecard: India and South Africa resume action on Day 2 of the second Test in Johannesburg'},\n",
       " {'heading': \"Though the Maharashtra government declared a night curfew from 9pm to 6am for the New Year's Eve, it had exempted restaurants. However, rumours that restaurants would shut early took a toll on the business.\"},\n",
       " {'heading': \"Here’s a quick rundown on the popular platform for movie discovery and tracking, 'Letterboxd': How to use and features.\"},\n",
       " {'heading': 'Julio Ribeiro writes: Without foreign funds, the nuns will have to abandon the poor. Hindutva brigade can take up their work.'},\n",
       " {'heading': '\"Day 40 - Finished. Preet has just made history becoming the first woman of colour to complete a solo expedition in Antarctica,\" reads the final entry of her blog.'},\n",
       " {'heading': 'In line with the traditional baby shower hosted for women, the family carried out similar rituals for the felines. '},\n",
       " {'heading': 'Physical activity is an important aspect to keep one fit.'},\n",
       " {'heading': 'The verdict signaled the end of an era. In Silicon Valley, where the line between talk and achievement is often vague, there is finally a limit to faking it.'},\n",
       " {'heading': 'Bangalore Active Covid-19 Cases Live, Bengaluru, Karnataka Omicron News Latest Updates, Bangalore Today News, 4 January: Witnessing a further surge in daily Covid-19 cases, Karnataka on Monday reported 1,290 fresh infections and 5 deaths, taking the count to 30,10,847 and the death toll to 38,351.'},\n",
       " {'heading': \"Film industry stakeholders and theatre owners say they are fighting for survival due to the Andhra Pradesh government setting caps on cinema ticket prices. They cite the earnings of Allu Arjun's Pushpa in its home state as example.\"},\n",
       " {'heading': 'Offline transactions are subject to a limit of Rs 200 per transaction and an overall limit of Rs 2,000 for all transactions until balance in the account is replenished.'},\n",
       " {'heading': 'Rendagam teaser:: the film stars Kunchacko Boban and Aravind Swamy in the lead roles. '},\n",
       " {'heading': 'Jan-Lennard Struff withstood 34 aces in a 7-6 (7), 4-6, 7-5 win over John Isner to give Germany the lead and Zverev sealed it, on his fifth match point, with a 6-4, 6-4 win in the second of the singles matches.'},\n",
       " {'heading': 'After completing their management programme from IIM Ahmedabad, the couple worked as investment bankers in Hongkong and Singapore. But later quit to launch an edtech startup.'}]"
      ]
     },
     "execution_count": 6,
     "metadata": {},
     "output_type": "execute_result"
    }
   ],
   "source": [
    "news"
   ]
  },
  {
   "cell_type": "code",
   "execution_count": null,
   "metadata": {},
   "outputs": [],
   "source": []
  }
 ],
 "metadata": {
  "interpreter": {
   "hash": "8da01e5a71448ea74f54d88afa8911010d1d12e23bc7e103d40d5def4a09152c"
  },
  "kernelspec": {
   "display_name": "Python 3.9.8 64-bit",
   "language": "python",
   "name": "python3"
  },
  "language_info": {
   "codemirror_mode": {
    "name": "ipython",
    "version": 3
   },
   "file_extension": ".py",
   "mimetype": "text/x-python",
   "name": "python",
   "nbconvert_exporter": "python",
   "pygments_lexer": "ipython3",
   "version": "3.9.8"
  },
  "orig_nbformat": 4
 },
 "nbformat": 4,
 "nbformat_minor": 2
}
