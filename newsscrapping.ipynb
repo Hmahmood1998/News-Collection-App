{
 "cells": [
  {
   "cell_type": "code",
   "execution_count": 1,
   "metadata": {},
   "outputs": [],
   "source": [
    "import requests\n",
    "from bs4 import BeautifulSoup "
   ]
  },
  {
   "cell_type": "code",
   "execution_count": 2,
   "metadata": {},
   "outputs": [],
   "source": [
    "url=\"https://www.ndtv.com/top-stories\""
   ]
  },
  {
   "cell_type": "code",
   "execution_count": 3,
   "metadata": {},
   "outputs": [],
   "source": [
    "data=requests.get(url)"
   ]
  },
  {
   "cell_type": "code",
   "execution_count": 6,
   "metadata": {},
   "outputs": [],
   "source": [
    "# data.text"
   ]
  },
  {
   "cell_type": "code",
   "execution_count": 4,
   "metadata": {},
   "outputs": [],
   "source": [
    "soup=BeautifulSoup(data.text)\n",
    "# soup"
   ]
  },
  {
   "cell_type": "code",
   "execution_count": 7,
   "metadata": {},
   "outputs": [],
   "source": [
    "news = []\n",
    "for row in soup.find_all('div',{'class':'news_Itm'}):\n",
    "    detail = {}\n",
    "    if not  'adBg' in row.attrs.get('class'):\n",
    "        # print(row.find('h2').attrs.get('href'))\n",
    "        detail['link'] = row.find('h2').find('a').attrs.get('href')\n",
    "        # print(row.find('span').text)\n",
    "        detail['heading'] = row.find('h2').text\n",
    "\n",
    "        detail['Sourse']=row.find('span').text\n",
    "        # print(row.find('p').text)\n",
    "        detail['summary']=row.find('p').text\n",
    "        # print(row.find('img').attrs.get('src'))\n",
    "        detail['Image']=row.find('img').attrs.get('src')\n",
    "        # print()\n",
    "    news.append(detail)\n"
   ]
  },
  {
   "cell_type": "code",
   "execution_count": 2,
   "metadata": {},
   "outputs": [],
   "source": [
    "# news"
   ]
  },
  {
   "cell_type": "code",
   "execution_count": 2,
   "metadata": {},
   "outputs": [],
   "source": [
    "url=\"https://www.indiatoday.in/top-stories\""
   ]
  },
  {
   "cell_type": "code",
   "execution_count": 3,
   "metadata": {},
   "outputs": [],
   "source": [
    "data=requests.get(url)"
   ]
  },
  {
   "cell_type": "code",
   "execution_count": 4,
   "metadata": {},
   "outputs": [],
   "source": [
    "soup=BeautifulSoup(data.text)"
   ]
  },
  {
   "cell_type": "code",
   "execution_count": 5,
   "metadata": {},
   "outputs": [],
   "source": [
    "news=[]\n",
    "for row in soup.find_all('div',{'class':'catagory-listing'}):\n",
    "    detail={}\n",
    "\n",
    "    detail['heading']=row.find('h2').text\n",
    "\n",
    "    detail['summary']=row.find('p').text\n",
    "\n",
    "    detail['image']=row.find('img').attrs.get('src')\n",
    "\n",
    "    detail['link'] = row.find('h2').find('a').attrs.get('href')\n",
    "\n",
    "    news.append(detail)\n"
   ]
  },
  {
   "cell_type": "code",
   "execution_count": 8,
   "metadata": {},
   "outputs": [
    {
     "data": {
      "text/plain": [
       "[{'heading': 'Covid-19: Fresh guidelines issued in Mumbai for international travelers',\n",
       "  'summary': 'Amid the surge in the Covid-19 cases, the Brihanmumbai Municipal Corporation\\n(BMC) has issued new covid guidelines for international travelers.',\n",
       "  'image': 'https://akm-img-a-in.tosshub.com/indiatoday/images/story/202201/mumbai_covid_cases_1200x768.jpeg?4IRS7hVpIenaqQ3AJMUkcXRKVvbdjYoE&size=170:96',\n",
       "  'link': '/cities/mumbai/story/bmc-issued-fresh-guidelines-in-mumbai-for-international-travelers-1896150-2022-01-05'},\n",
       " {'heading': 'Water use to be restricted in California as drought prolongs in US state',\n",
       "  'summary': 'The new restrictions follow an extremely wet December that state officials\\nwarned may not continue during the winter months that normally are the\\nstate’s wettest.',\n",
       "  'image': 'https://akm-img-a-in.tosshub.com/indiatoday/images/story/202201/Winters.jpeg?wO.X0RWtK4yhIjqY9WNTo0Sntg6je8br&size=170:96',\n",
       "  'link': '/science/story/california-drought-water-use-restriction-winter-storm-weather-1896148-2022-01-05'},\n",
       " {'heading': 'Wild jumbos wreck havoc, destroy harvest in coastal Andhra Pradesh | Watch',\n",
       "  'summary': 'Four wild elephants created chaos and fear by destroying the harvest in\\nvillages in the Pathapatnam constituency of Andhra Pradesh’s Srikakulam\\ndistrict.',\n",
       "  'image': 'https://akm-img-a-in.tosshub.com/indiatoday/images/story/202201/jumbos_1200x768.jpeg?cauPDHrET463tM5gcC9KO9MoUHWmXK7w&size=170:96',\n",
       "  'link': '/india/story/wild-jumbos-wreck-havoc-destroy-harvest-in-coastal-andhra-pradesh-watch-1896146-2022-01-05'},\n",
       " {'heading': 'Kerala man who described the taste of cyanide features in Chilean author’s book selected for Booker Prize 2021',\n",
       "  'summary': \"Benjamin Labatut's book begins with the use of cyanide in historical times\\nand then proceeds to mention its taste, which brings forth the account of MP\\nPrasad, an almost forgotten man from Kerala.\",\n",
       "  'image': 'https://akm-img-a-in.tosshub.com/indiatoday/images/story/202201/ghd_0.jpg?FYFTVRE8NHjYANCIwkDzLc5Clz1Wrxcs&size=170:96',\n",
       "  'link': '/lifestyle/people/story/kerala-man-who-described-the-taste-of-cyanide-features-in-chilean-author-s-book-selected-for-booker-prize-2021-1896147-2022-01-05'},\n",
       " {'heading': 'Why Lord Shardul? India pacer reveals reason behind nickname after 2nd Test heroics',\n",
       "  'summary': 'India tour of South Africa: Shardul Thakur said confidence is his simple\\nsuccess mantra after the India pacer shone on Day 2 of the Johannesburg Test,\\nregistering his career-best Test figures of 7/61.',\n",
       "  'image': 'https://akm-img-a-in.tosshub.com/indiatoday/images/story/202201/lordshardulthakur_1200x768.jpeg?4TOsusPIIKwR_vW.p_BJAHGuzPPVp0Av&size=170:96',\n",
       "  'link': '/sports/cricket/story/why-lord-shardul-india-pacer-reveals-reason-behind-nickname-after-7-wicket-haul-in-johannesburg-test-1896144-2022-01-05'},\n",
       " {'heading': \"Cordelia cruise: All 66 Covid patients on Mumbai-Goa ship sent for hotel quarantine; others' results awaited\",\n",
       "  'summary': 'Cordelia cruise news: All the 66 Covid patients on the Mumbai-Goa Cordelia\\ncruise ship have been sent for hotel quarantine by the Brihanmumbai Municipal\\nCorporation.',\n",
       "  'image': 'https://akm-img-a-in.tosshub.com/indiatoday/images/story/202201/Cordelia_3_1200x768.jpeg?EPq0ohoVwbXD1GIsrkXw3688GPSn0RW.&size=170:96',\n",
       "  'link': '/coronavirus-outbreak/story/cordelia-cruise-all-covid-patients-on-mumbai-goa-ship-sent-for-hotel-quarantine-bmc-1896143-2022-01-05'},\n",
       " {'heading': 'Amitabh Bachchan’s staff tests positive for Covid-19',\n",
       "  'summary': 'Amitabh Bachchan’s staff has tested positive for coronavirus. The test was\\nconducted on Sunday, January 2.',\n",
       "  'image': 'https://akm-img-a-in.tosshub.com/indiatoday/images/story/202201/pjimage_(1)_4.jpg?CJposvvR3VL9x5hToeXYkvgoGO_gHHP0&size=170:96',\n",
       "  'link': '/movies/celebrities/story/amitabh-bachchan-s-staff-tests-positive-for-covid-19-1896142-2022-01-05'},\n",
       " {'heading': \"'Bulli Bai' row: 3rd accused is 21-year-old student from Uttarakhand; arrested\",\n",
       "  'summary': 'The Mumbai Police has arrested a 21-year-old student from Uttarakhand in\\nconnection with the Bulli Bai row. This is the third arrest in the case.',\n",
       "  'image': 'https://akm-img-a-in.tosshub.com/indiatoday/images/story/202201/arrested_rep._1200x768.jpeg?dc3B61NFpigQwPvUNcdp5MC8yFK6SMhC&size=170:96',\n",
       "  'link': '/india/story/bulli-bai-case-third-arrest-uttarakhand-student-mumbai-police-1896141-2022-01-05'},\n",
       " {'heading': 'Shehnaaz Gill says her journey with Sidharth Shukla is still going on. Watch video',\n",
       "  'summary': 'Shehnaaz Gill recently spoke about her journey with Sidharth Shukla and how\\nshe has coped up with his demise in a new video. The actress remembered him\\nin a conversation with BK Shivani.',\n",
       "  'image': 'https://akm-img-a-in.tosshub.com/indiatoday/images/story/202201/2021_9_largeimg_211743306_1200x768.jpeg?6b4uJyidweA2Zrv8Qu7St.2LQTLioC12&size=170:96',\n",
       "  'link': '/television/celebrity/story/shehnaaz-gill-says-her-journey-with-sidharth-shukla-is-still-going-on-watch-video-1896135-2022-01-05'},\n",
       " {'heading': 'Congress alleges collusion between TRS, BJP in Telangana ',\n",
       "  'summary': 'Congress has alleged collusion between TRS and BJP to showcase BJP as the\\nprimary opposition in Telangana.',\n",
       "  'image': 'https://akm-img-a-in.tosshub.com/indiatoday/images/story/202201/tiger_25.jpg?2bZ1KbmqQ1vUvt0M7n38BruFutoMsnLe&size=170:96',\n",
       "  'link': '/india/story/congress-alleges-collusion-bjp-trs-telangana-election-1896131-2022-01-05'},\n",
       " {'heading': 'Lovebirds Rakul Preet Singh and Jackky Bhagnani return to Mumbai after New Year holiday. See pics ',\n",
       "  'summary': 'Rakul Preet Singh and Jackky Bhagnani were spotted together at Mumbai airport\\ntoday, January 5. The couple seem to be returning from their New Year\\nholiday.',\n",
       "  'image': 'https://akm-img-a-in.tosshub.com/indiatoday/images/story/202201/pjimage_9.jpg?0RxtZkaHt59LQCuR4WCrXO.WLMd2_AWW&size=170:96',\n",
       "  'link': '/movies/celebrities/story/lovebirds-rakul-preet-singh-and-jackky-bhagnani-return-to-mumbai-after-new-year-holiday-see-pics-1896136-2022-01-05'},\n",
       " {'heading': 'Gurugram: IMD predicts light showers today in city; air might get better',\n",
       "  'summary': 'As per the predictions by the India Meteorological Department (IMD), Gurugram\\nis expected to witness light showers over the next few days owing to western\\ndisturbance.',\n",
       "  'image': 'https://akm-img-a-in.tosshub.com/indiatoday/images/story/202201/rainfall_in_patna_1200x768.jpeg?fLzDeYFVxbmKnjKBk7o.3zcpwNy7L8pW&size=170:96',\n",
       "  'link': '/cities/gurugram/story/gurugram-to-experience-light-showers-today-air-might-get-better-says-imd-1896134-2022-01-05'}]"
      ]
     },
     "execution_count": 8,
     "metadata": {},
     "output_type": "execute_result"
    }
   ],
   "source": [
    "news"
   ]
  },
  {
   "cell_type": "code",
   "execution_count": 2,
   "metadata": {},
   "outputs": [],
   "source": [
    "url=\"https://indianexpress.com/latest-news/\""
   ]
  },
  {
   "cell_type": "code",
   "execution_count": 3,
   "metadata": {},
   "outputs": [],
   "source": [
    "data=requests.get(url)"
   ]
  },
  {
   "cell_type": "code",
   "execution_count": 4,
   "metadata": {},
   "outputs": [],
   "source": [
    "soup=BeautifulSoup(data.text)"
   ]
  },
  {
   "cell_type": "code",
   "execution_count": 5,
   "metadata": {},
   "outputs": [],
   "source": [
    "news=[]\n",
    "for row in soup.find_all('div',{'class':'articles'}):\n",
    "    detail={}\n",
    "    # detail['heading'] = row.find('div').text\n",
    "    detail['sourse'] = row.find('div').text\n",
    "    detail['summary']=row.find('p').text\n",
    "    detail['image']=row.find('img').attrs.get('src')\n",
    "    detail['link'] = row.find('a').attrs.get('href')\n",
    "\n",
    "    news.append(detail)\n"
   ]
  },
  {
   "cell_type": "code",
   "execution_count": 6,
   "metadata": {},
   "outputs": [
    {
     "data": {
      "text/plain": [
       "[{'sourse': 'Updated: January 6, 2022  10:49:13 am',\n",
       "  'summary': 'According to the police, the workers at Sachin Gujarat Industrial Development Corporation were sleeping when the gas leaked from a tanker parked outside the industrial area.',\n",
       "  'image': 'https://indianexpress.com/wp-content/plugins/lazy-load/images/1x1.trans.gif',\n",
       "  'link': 'https://indianexpress.com/article/cities/ahmedabad/gujarat-surat-chemical-gas-leak-deaths-7709114/'},\n",
       " {'sourse': 'January 6, 2022 10:46:57 am',\n",
       "  'summary': '\"If the fair is not held this year, many publishers may have to starve. We are determined to hold it with precautions. We couldn\\'t host it last year, causing serious financial stress to publishers of College Street,\" Tridib Chatterjee said.',\n",
       "  'image': 'https://indianexpress.com/wp-content/plugins/lazy-load/images/1x1.trans.gif',\n",
       "  'link': 'https://indianexpress.com/article/books-and-literature/publishers-hopeful-about-kolkata-book-fair-despite-covid-spike-7707910/'},\n",
       " {'sourse': 'January 6, 2022 10:46:11 am',\n",
       "  'summary': \"BTS' V's song Christmas Tree has debuted at No.1 on the Billboard Digital Song Sales chart, making him the first Korean soloist to debut on the chart.\",\n",
       "  'image': 'https://indianexpress.com/wp-content/plugins/lazy-load/images/1x1.trans.gif',\n",
       "  'link': 'https://indianexpress.com/article/entertainment/music/bts-v-creates-history-with-his-song-christmas-tree-on-billboard-charts-7709012/'},\n",
       " {'sourse': 'January 6, 2022 10:50:02 am',\n",
       "  'summary': \"All viruses, including SARS-CoV-2 -- that causes Covid-19 -- change over time, a phenomenon known as mutation. A virus with one or more new mutations is referred to as a 'variant' of the original virus, according to WHO\",\n",
       "  'image': 'https://indianexpress.com/wp-content/plugins/lazy-load/images/1x1.trans.gif',\n",
       "  'link': 'https://indianexpress.com/article/lifestyle/health/covid-19-pandemic-variants-delta-plus-omicron-ihu-lambda-mu-7707702/'},\n",
       " {'sourse': 'Updated: January 6, 2022  10:40:58 am',\n",
       "  'summary': '🔴 Goyal, who also spoke at the event, said capital markets should move towards creation of a single window for “doing know-your-customer (KYC) for stockbrokers, mutual funds, financial intermediaries, banking and other stakeholders”.',\n",
       "  'image': 'https://indianexpress.com/wp-content/plugins/lazy-load/images/1x1.trans.gif',\n",
       "  'link': 'https://indianexpress.com/article/business/market/tyagi-bats-for-safeguarding-retail-investors-7708771/'},\n",
       " {'sourse': 'January 6, 2022 10:39:22 am',\n",
       "  'summary': 'According to the data provided by the Health Ministry, Maharashtra (91,204) has the most number of active cases in the country, followed by West Bengal (33,042), Kerala (23,607) and Delhi (23,307).',\n",
       "  'image': 'https://indianexpress.com/wp-content/plugins/lazy-load/images/1x1.trans.gif',\n",
       "  'link': 'https://indianexpress.com/article/india/covid-19-omicron-numbers-update-january-6-7709119/'},\n",
       " {'sourse': 'Updated: January 6, 2022  10:33:37 am',\n",
       "  'summary': '🔴  The Safdarjung weather observatory recorded 9.1 mm of rainfall between 8.30 am on Wednesday and 8.30 am on Thursday.',\n",
       "  'image': 'https://indianexpress.com/wp-content/plugins/lazy-load/images/1x1.trans.gif',\n",
       "  'link': 'https://indianexpress.com/article/cities/delhi/western-disturbance-could-trigger-rain-in-delhi-from-tomorrow-to-sunday-7709143/'},\n",
       " {'sourse': 'January 6, 2022 10:30:26 am',\n",
       "  'summary': '🔴 The launch on Wednesday was the first by North Korea since October and was detected by several militaries in the region.',\n",
       "  'image': 'https://indianexpress.com/wp-content/plugins/lazy-load/images/1x1.trans.gif',\n",
       "  'link': 'https://indianexpress.com/article/world/north-korea-launches-second-hypersonic-missile-in-fiery-test-7709126/'},\n",
       " {'sourse': 'Updated: January 6, 2022  10:29:53 am',\n",
       "  'summary': 'Novak Djokovic was left stranded after being denied entry into Australia on Thursday.',\n",
       "  'image': 'https://indianexpress.com/wp-content/plugins/lazy-load/images/1x1.trans.gif',\n",
       "  'link': 'https://indianexpress.com/article/sports/tennis/tennis-world-reacts-to-novak-djokovics-cancelled-australian-visa-politicians-point-fingers-7709124/'},\n",
       " {'sourse': 'Updated: January 6, 2022  10:25:42 am',\n",
       "  'summary': 'Notes released Thursday from the Fed meeting last month showed policymakers believe the U.S. job market is nearly healthy enough that ultra-low interest rates are no longer needed. Traders took that as a sign the Fed might be more aggressive about rolling back stimulus that is boosting stock prices.',\n",
       "  'image': 'https://indianexpress.com/wp-content/plugins/lazy-load/images/1x1.trans.gif',\n",
       "  'link': 'https://indianexpress.com/article/business/world-market/asian-stocks-follow-wall-street-lower-after-us-fed-rates-signal-7709128/'},\n",
       " {'sourse': 'Updated: January 6, 2022  10:22:58 am',\n",
       "  'summary': \"Pune, Maharashtra Today Latest Updates, Pune Omicron Variant Covid-19 Live News, Pune Lockdown Updates, 6 January: The city's hospitals are bracing for an eventual surge in admissions. As cases have risen rapidly in the last one week, hospitals have already begun to see an uptick in admissions.\\xa0\",\n",
       "  'image': 'https://indianexpress.com/wp-content/plugins/lazy-load/images/1x1.trans.gif',\n",
       "  'link': 'https://indianexpress.com/article/cities/pune/pune-news-live-covid-19-cases-omicron-vaccination-pmc-7709064/'},\n",
       " {'sourse': 'January 6, 2022 10:22:45 am',\n",
       "  'summary': '🔴 Fire department officials said four smoke detectors were installed in the building and had last been inspected in 2020.',\n",
       "  'image': 'https://indianexpress.com/wp-content/plugins/lazy-load/images/1x1.trans.gif',\n",
       "  'link': 'https://indianexpress.com/article/world/philadelphia-apartment-fire-death-toll-revised-7709111/'},\n",
       " {'sourse': 'Updated: January 6, 2022  10:19:27 am',\n",
       "  'summary': 'Covid-19 Active Cases India Jan 6 Updates, New Omicron Variant Cases in India, Children Dose Today News: The Omicron tally in India has reached 2,630, with Maharashtra (797) topping the count, followed by Delhi (465).',\n",
       "  'image': 'https://indianexpress.com/wp-content/plugins/lazy-load/images/1x1.trans.gif',\n",
       "  'link': 'https://indianexpress.com/article/india/covid-19-omicron-india-live-updates-coronavirus-vaccine-news-7709043/'},\n",
       " {'sourse': 'January 6, 2022 10:19:23 am',\n",
       "  'summary': 'Somy Ali and Salman Khan were in a relationship with each other in the 90s for almost a decade. The couple called it quits and later, Somy moved back to the US.',\n",
       "  'image': 'https://indianexpress.com/wp-content/plugins/lazy-load/images/1x1.trans.gif',\n",
       "  'link': 'https://indianexpress.com/article/entertainment/bollywood/somy-ali-salman-khan-relationship-marriage-7709121/'},\n",
       " {'sourse': 'January 6, 2022 10:11:51 am',\n",
       "  'summary': 'Schools for Classes 1 to 8 in Mumbai and Pune have already been shut in light of the surge in coronavirus cases.',\n",
       "  'image': 'https://indianexpress.com/wp-content/plugins/lazy-load/images/1x1.trans.gif',\n",
       "  'link': 'https://indianexpress.com/article/education/universities-colleges-in-maharashtra-to-remain-shut-till-february-15-7709122/'},\n",
       " {'sourse': 'Updated: January 6, 2022  10:08:41 am',\n",
       "  'summary': 'Share Market, Stock Market Live Updates: Catch all the LIVE updates related to stocks, shares, currency and commodity markets here.',\n",
       "  'image': 'https://indianexpress.com/wp-content/plugins/lazy-load/images/1x1.trans.gif',\n",
       "  'link': 'https://indianexpress.com/article/business/market/equity-markets-live-updates-stocks-shares-bse-sensex-nse-nifty-rupee-january-6-7709090/'},\n",
       " {'sourse': 'Updated: January 6, 2022  10:04:19 am',\n",
       "  'summary': 'A bench of justices DY Chandrachud and AS Bopanna said that the hearing in the matter would continue on Thursday, after which it will pass some orders.',\n",
       "  'image': 'https://indianexpress.com/wp-content/plugins/lazy-load/images/1x1.trans.gif',\n",
       "  'link': 'https://indianexpress.com/article/education/neet-pg-counselling-2021-sc-to-continue-hearing-on-obc-ews-quota-today-7709103/'},\n",
       " {'sourse': 'January 6, 2022 10:02:55 am',\n",
       "  'summary': 'Anushka Sharma plays former cricket team captain Jhulan Goswami in her next film Chakda Xpress.',\n",
       "  'image': 'https://indianexpress.com/wp-content/plugins/lazy-load/images/1x1.trans.gif',\n",
       "  'link': 'https://indianexpress.com/article/entertainment/bollywood/anushka-sharma-dons-indian-cricket-team-jersey-chakda-xpress-watch-video-7709108/'},\n",
       " {'sourse': 'January 6, 2022 10:00:49 am',\n",
       "  'summary': '\"Avoid this pose if you have wrist injury. In case of neck injury, use a wall or a chair for supporting your head,\" yoga trainer Anshuka Parwani suggested',\n",
       "  'image': 'https://indianexpress.com/wp-content/plugins/lazy-load/images/1x1.trans.gif',\n",
       "  'link': 'https://indianexpress.com/article/lifestyle/fitness/sonal-chauhan-core-pose-strength-stretch-upward-plank-benefits-purvottanasana-7494078/'},\n",
       " {'sourse': 'Updated: January 6, 2022  9:55:35 am',\n",
       "  'summary': 'A consortium had on December 17 last year said that Jet Airways 2.0 plans to start domestic operations at the earliest in 2022 as a full-service carrier.',\n",
       "  'image': 'https://indianexpress.com/wp-content/plugins/lazy-load/images/1x1.trans.gif',\n",
       "  'link': 'https://indianexpress.com/article/india/jet-airways-says-its-vp-operations-sudhir-gaur-has-quit-7709089/'},\n",
       " {'sourse': 'January 6, 2022 9:54:21 am',\n",
       "  'summary': 'Vir Das is returning to Mumbai this May with a brand new stand-up gig called Wanted. He would be performing at the iconic Jamshed Bhabha Theatre in Mumbai. ',\n",
       "  'image': 'https://indianexpress.com/wp-content/plugins/lazy-load/images/1x1.trans.gif',\n",
       "  'link': 'https://indianexpress.com/article/entertainment/entertainment-others/vir-das-announces-his-mumbai-tour-wanted-7709096/'},\n",
       " {'sourse': 'January 6, 2022 9:51:08 am',\n",
       "  'summary': 'The pandemic also prompted a last-minute cancellation of another cruise that was scheduled to depart Wednesday.',\n",
       "  'image': 'https://indianexpress.com/wp-content/plugins/lazy-load/images/1x1.trans.gif',\n",
       "  'link': 'https://indianexpress.com/article/world/covid-19-cases-cut-cruise-short-cancel-other-sailings-7709095/'},\n",
       " {'sourse': 'January 6, 2022 9:47:11 am',\n",
       "  'summary': 'As per the latest resolution adopted by the forest and environment department of the Gujarat government, next of kin of those killed in attacks by wild animals will now get Rs 5 lakh compensation instead of Rs 4 lakh.',\n",
       "  'image': 'https://indianexpress.com/wp-content/plugins/lazy-load/images/1x1.trans.gif',\n",
       "  'link': 'https://indianexpress.com/article/cities/rajkot/gujarat-govt-increases-compensation-wild-animal-attacks-7709039/'},\n",
       " {'sourse': 'Updated: January 6, 2022  9:45:09 am',\n",
       "  'summary': 'The Blues, who had enough chances to put the tie beyond doubt, swamped the visitors from the start as they sought to book their place in their third final under coach Thomas Tuchel who has yet to mark his first anniversary at Stamford Bridge.',\n",
       "  'image': 'https://indianexpress.com/wp-content/plugins/lazy-load/images/1x1.trans.gif',\n",
       "  'link': 'https://indianexpress.com/article/sports/football/chelsea-dominate-spurs-in-2-0-league-cup-semi-final-win-7709080/'},\n",
       " {'sourse': 'Updated: January 6, 2022  9:38:36 am',\n",
       "  'summary': '🔴 A preliminary inquiry into the matter showed that around 80 cardboard boxes had caught fire following a short circuit.',\n",
       "  'image': 'https://indianexpress.com/wp-content/plugins/lazy-load/images/1x1.trans.gif',\n",
       "  'link': 'https://indianexpress.com/article/cities/delhi/delhi-chandni-chowk-market-fire-7709019/'}]"
      ]
     },
     "execution_count": 6,
     "metadata": {},
     "output_type": "execute_result"
    }
   ],
   "source": [
    "news"
   ]
  },
  {
   "cell_type": "code",
   "execution_count": 15,
   "metadata": {},
   "outputs": [],
   "source": [
    "url=\"https://www.news18.com/\""
   ]
  },
  {
   "cell_type": "code",
   "execution_count": 16,
   "metadata": {},
   "outputs": [],
   "source": [
    "data=requests.get(url)"
   ]
  },
  {
   "cell_type": "code",
   "execution_count": 17,
   "metadata": {},
   "outputs": [],
   "source": [
    "soup=BeautifulSoup(data.text)"
   ]
  },
  {
   "cell_type": "code",
   "execution_count": 18,
   "metadata": {},
   "outputs": [],
   "source": [
    "news=[]\n",
    "for row in soup.find_all('li',{'class':'fnt-siz-e'}):\n",
    "    detail={}\n",
    "    detail['heading']=row.find('h2').text\n",
    "    detail['link'] = row.find('h2').find('a').attrs.get('href')\n",
    "\n",
    "\n",
    "\n",
    "    news.append(detail)"
   ]
  },
  {
   "cell_type": "code",
   "execution_count": 19,
   "metadata": {},
   "outputs": [
    {
     "data": {
      "text/plain": [
       "[]"
      ]
     },
     "execution_count": 19,
     "metadata": {},
     "output_type": "execute_result"
    }
   ],
   "source": [
    "news"
   ]
  },
  {
   "cell_type": "code",
   "execution_count": 11,
   "metadata": {},
   "outputs": [],
   "source": [
    "url=\"https://www.business-standard.com/most-read/list/day/relevance\""
   ]
  },
  {
   "cell_type": "code",
   "execution_count": 8,
   "metadata": {},
   "outputs": [],
   "source": [
    "data=requests.get(url)"
   ]
  },
  {
   "cell_type": "code",
   "execution_count": 9,
   "metadata": {},
   "outputs": [],
   "source": [
    "soup=BeautifulSoup(data.text)"
   ]
  },
  {
   "cell_type": "code",
   "execution_count": 14,
   "metadata": {},
   "outputs": [
    {
     "ename": "AttributeError",
     "evalue": "'int' object has no attribute 'text'",
     "output_type": "error",
     "traceback": [
      "\u001b[1;31m---------------------------------------------------------------------------\u001b[0m",
      "\u001b[1;31mAttributeError\u001b[0m                            Traceback (most recent call last)",
      "\u001b[1;32m~\\AppData\\Local\\Temp/ipykernel_1128/3151671001.py\u001b[0m in \u001b[0;36m<module>\u001b[1;34m\u001b[0m\n\u001b[0;32m      2\u001b[0m \u001b[1;32mfor\u001b[0m \u001b[0mrow\u001b[0m \u001b[1;32min\u001b[0m \u001b[0msoup\u001b[0m\u001b[1;33m.\u001b[0m\u001b[0mfind\u001b[0m\u001b[1;33m(\u001b[0m\u001b[1;34m'ul'\u001b[0m\u001b[1;33m,\u001b[0m\u001b[1;33m{\u001b[0m\u001b[1;34m'class'\u001b[0m\u001b[1;33m:\u001b[0m\u001b[1;34m'listing'\u001b[0m\u001b[1;33m}\u001b[0m\u001b[1;33m)\u001b[0m\u001b[1;33m:\u001b[0m\u001b[1;33m\u001b[0m\u001b[1;33m\u001b[0m\u001b[0m\n\u001b[0;32m      3\u001b[0m     \u001b[0mdetail\u001b[0m\u001b[1;33m=\u001b[0m\u001b[1;33m{\u001b[0m\u001b[1;33m}\u001b[0m\u001b[1;33m\u001b[0m\u001b[1;33m\u001b[0m\u001b[0m\n\u001b[1;32m----> 4\u001b[1;33m     \u001b[0mdetail\u001b[0m\u001b[1;33m[\u001b[0m\u001b[1;34m'heading'\u001b[0m\u001b[1;33m]\u001b[0m\u001b[1;33m=\u001b[0m\u001b[0mrow\u001b[0m\u001b[1;33m.\u001b[0m\u001b[0mfind\u001b[0m\u001b[1;33m(\u001b[0m\u001b[1;34m'h2'\u001b[0m\u001b[1;33m)\u001b[0m\u001b[1;33m.\u001b[0m\u001b[0mtext\u001b[0m\u001b[1;33m\u001b[0m\u001b[1;33m\u001b[0m\u001b[0m\n\u001b[0m\u001b[0;32m      5\u001b[0m     \u001b[0mdetail\u001b[0m\u001b[1;33m[\u001b[0m\u001b[1;34m'summary'\u001b[0m\u001b[1;33m]\u001b[0m\u001b[1;33m=\u001b[0m\u001b[0mrow\u001b[0m\u001b[1;33m.\u001b[0m\u001b[0mfind_all\u001b[0m\u001b[1;33m(\u001b[0m\u001b[1;34m'p'\u001b[0m\u001b[1;33m)\u001b[0m\u001b[1;33m\u001b[0m\u001b[1;33m\u001b[0m\u001b[0m\n\u001b[0;32m      6\u001b[0m     \u001b[1;31m# detail['src']=row.find_all('p')[-1]\u001b[0m\u001b[1;33m\u001b[0m\u001b[1;33m\u001b[0m\u001b[0m\n",
      "\u001b[1;31mAttributeError\u001b[0m: 'int' object has no attribute 'text'"
     ]
    }
   ],
   "source": [
    "news=[]\n",
    "for row in soup.find('ul',{'class':'listing'}):\n",
    "    detail={}\n",
    "    detail['heading']=row.find('h2').text\n",
    "    detail['summary']=row.find_all('p')\n",
    "    # detail['src']=row.find_all('p')[-1]\n",
    "    detail['link'] = row.find('h2').find('a').attrs.get('href')\n",
    "    # detail['image']=row.find('img').attrs.get('src')\n",
    "\n",
    "    news.append(detail)"
   ]
  },
  {
   "cell_type": "code",
   "execution_count": 9,
   "metadata": {},
   "outputs": [
    {
     "data": {
      "text/plain": [
       "[]"
      ]
     },
     "execution_count": 9,
     "metadata": {},
     "output_type": "execute_result"
    }
   ],
   "source": [
    "news"
   ]
  },
  {
   "cell_type": "code",
   "execution_count": null,
   "metadata": {},
   "outputs": [],
   "source": []
  }
 ],
 "metadata": {
  "interpreter": {
   "hash": "8da01e5a71448ea74f54d88afa8911010d1d12e23bc7e103d40d5def4a09152c"
  },
  "kernelspec": {
   "display_name": "Python 3.9.8 64-bit",
   "language": "python",
   "name": "python3"
  },
  "language_info": {
   "codemirror_mode": {
    "name": "ipython",
    "version": 3
   },
   "file_extension": ".py",
   "mimetype": "text/x-python",
   "name": "python",
   "nbconvert_exporter": "python",
   "pygments_lexer": "ipython3",
   "version": "3.9.8"
  },
  "orig_nbformat": 4
 },
 "nbformat": 4,
 "nbformat_minor": 2
}
