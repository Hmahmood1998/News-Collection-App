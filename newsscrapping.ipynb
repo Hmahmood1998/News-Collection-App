{
 "cells": [
  {
   "cell_type": "code",
   "execution_count": 1,
   "metadata": {},
   "outputs": [],
   "source": [
    "import requests\n",
    "from bs4 import BeautifulSoup "
   ]
  },
  {
   "cell_type": "code",
   "execution_count": 2,
   "metadata": {},
   "outputs": [],
   "source": [
    "url=\"https://www.ndtv.com/top-stories\""
   ]
  },
  {
   "cell_type": "code",
   "execution_count": 3,
   "metadata": {},
   "outputs": [],
   "source": [
    "data=requests.get(url)"
   ]
  },
  {
   "cell_type": "code",
   "execution_count": 6,
   "metadata": {},
   "outputs": [],
   "source": [
    "# data.text"
   ]
  },
  {
   "cell_type": "code",
   "execution_count": 4,
   "metadata": {},
   "outputs": [],
   "source": [
    "soup=BeautifulSoup(data.text)\n",
    "# soup"
   ]
  },
  {
   "cell_type": "code",
   "execution_count": 7,
   "metadata": {},
   "outputs": [],
   "source": [
    "news = []\n",
    "for row in soup.find_all('div',{'class':'news_Itm'}):\n",
    "    detail = {}\n",
    "    if not  'adBg' in row.attrs.get('class'):\n",
    "        # print(row.find('h2').attrs.get('href'))\n",
    "        detail['link'] = row.find('h2').find('a').attrs.get('href')\n",
    "        # print(row.find('span').text)\n",
    "        detail['heading'] = row.find('h2').text\n",
    "\n",
    "        detail['Sourse']=row.find('span').text\n",
    "        # print(row.find('p').text)\n",
    "        detail['summary']=row.find('p').text\n",
    "        # print(row.find('img').attrs.get('src'))\n",
    "        detail['Image']=row.find('img').attrs.get('src')\n",
    "        # print()\n",
    "    news.append(detail)\n"
   ]
  },
  {
   "cell_type": "code",
   "execution_count": 2,
   "metadata": {},
   "outputs": [],
   "source": [
    "# news"
   ]
  },
  {
   "cell_type": "code",
   "execution_count": 9,
   "metadata": {},
   "outputs": [],
   "source": [
    "url=\"https://www.indiatoday.in/top-stories\""
   ]
  },
  {
   "cell_type": "code",
   "execution_count": 10,
   "metadata": {},
   "outputs": [],
   "source": [
    "data=requests.get(url)"
   ]
  },
  {
   "cell_type": "code",
   "execution_count": 11,
   "metadata": {},
   "outputs": [],
   "source": [
    "soup=BeautifulSoup(data.text)"
   ]
  },
  {
   "cell_type": "code",
   "execution_count": 12,
   "metadata": {},
   "outputs": [],
   "source": [
    "news=[]\n",
    "for row in soup.find_all('div',{'class':'catagory-listing'}):\n",
    "    detail={}\n",
    "\n",
    "    detail['heading']=row.find('h2').text\n",
    "\n",
    "    detail['summary']=row.find('p').text\n",
    "\n",
    "    detail['image']=row.find('img').attrs.get('src')\n",
    "\n",
    "    detail['link'] = row.find('h2').find('a').attrs.get('href')\n",
    "\n",
    "    news.append(detail)\n"
   ]
  },
  {
   "cell_type": "code",
   "execution_count": 3,
   "metadata": {},
   "outputs": [],
   "source": [
    "# news"
   ]
  },
  {
   "cell_type": "code",
   "execution_count": 10,
   "metadata": {},
   "outputs": [],
   "source": [
    "url=\"https://indianexpress.com/latest-news/\""
   ]
  },
  {
   "cell_type": "code",
   "execution_count": 11,
   "metadata": {},
   "outputs": [],
   "source": [
    "data=requests.get(url)"
   ]
  },
  {
   "cell_type": "code",
   "execution_count": 12,
   "metadata": {},
   "outputs": [],
   "source": [
    "soup=BeautifulSoup(data.text)"
   ]
  },
  {
   "cell_type": "code",
   "execution_count": 26,
   "metadata": {},
   "outputs": [],
   "source": [
    "news=[]\n",
    "for row in soup.find_all('div',{'class':'articles'}):\n",
    "    detail={}\n",
    "    # detail['heading'] = row.find('a')\n",
    "    detail['sourse'] = row.find('div')\n",
    "    detail['summary']=row.find('p').text\n",
    "    detail['image']=row.find('img').attrs.get('src')\n",
    "    detail['link'] = row.find('a').attrs.get('href')\n",
    "\n",
    "    news.append(detail)\n"
   ]
  },
  {
   "cell_type": "code",
   "execution_count": 27,
   "metadata": {},
   "outputs": [
    {
     "data": {
      "text/plain": [
       "[{'sourse': <div class=\"date\">Updated: January 4, 2022  9:35:02 pm</div>,\n",
       "  'summary': 'The deceased were identified as Sukhdev Singh (56), his son Jagdeep (28), daughter-in-law Jyoti (24) and granddaughter Jot (2).\\r\\n',\n",
       "  'image': 'https://indianexpress.com/wp-content/plugins/lazy-load/images/1x1.trans.gif',\n",
       "  'link': 'https://indianexpress.com/article/cities/ludhiana/ludhiana-family-murder-police-7705809/'},\n",
       " {'sourse': <div class=\"date\">January 4, 2022 9:34:36 pm</div>,\n",
       "  'summary': 'In a recent chat with BK Shivani, Shehnaaz Gill spoke about her journey with Sidharth Shukla and how she has coped up with his demise.',\n",
       "  'image': 'https://indianexpress.com/wp-content/plugins/lazy-load/images/1x1.trans.gif',\n",
       "  'link': 'https://indianexpress.com/article/entertainment/television/shehnaaz-gill-remembers-sidharth-shukla-in-latest-video-watch-7706465/'},\n",
       " {'sourse': <div class=\"date\">Updated: January 4, 2022  9:32:39 pm</div>,\n",
       "  'summary': '🔴 The Congress has so far held these 5-km marathons in Meerut (December 19), Jhansi (December 26), Lucknow (28 December) and Bareilly (January 4), with the Jhansi and Lucknow events reportedly drawing over 10,000 runners.',\n",
       "  'image': 'https://indianexpress.com/wp-content/plugins/lazy-load/images/1x1.trans.gif',\n",
       "  'link': 'https://indianexpress.com/article/india/political-pulse/girl-marathons-big-draw-congress-bets-buzz-in-poll-race-7706423/'},\n",
       " {'sourse': <div class=\"date\">Updated: January 4, 2022  9:29:44 pm</div>,\n",
       "  'summary': \"Shardul Thakur's effort that nullified India's seemingly inadequate first innings score of 202.\",\n",
       "  'image': 'https://indianexpress.com/wp-content/plugins/lazy-load/images/1x1.trans.gif',\n",
       "  'link': 'https://indianexpress.com/article/sports/cricket/india-vs-south-africa-2nd-test-day-2-report-shardul-thakur-7706459/'},\n",
       " {'sourse': <div class=\"date\">Updated: January 4, 2022  9:29:24 pm</div>,\n",
       "  'summary': \"India vs South Africa 2nd Test Live Match Score, IND vs SA Cricket Match Live Scorecard: Shardul Thakur's maiden five-wicket haul put India on top.\",\n",
       "  'image': 'https://indianexpress.com/wp-content/plugins/lazy-load/images/1x1.trans.gif',\n",
       "  'link': 'https://indianexpress.com/article/sports/cricket/india-vs-south-africa-2nd-test-day-2-live-score-updates-7705348/'},\n",
       " {'sourse': <div class=\"date\">Updated: January 4, 2022  9:27:59 pm</div>,\n",
       "  'summary': \"Maharashtra on Tuesday reported 18,466 fresh cases, around 52 per cent or 6,303 cases more than the previous day's tally, and 20 fatalities, the state health department said.\",\n",
       "  'image': 'https://indianexpress.com/wp-content/plugins/lazy-load/images/1x1.trans.gif',\n",
       "  'link': 'https://indianexpress.com/article/cities/mumbai/maharashtra-mumbai-covid-cases-deaths-omicron-january-4-7706427/'},\n",
       " {'sourse': <div class=\"date\">Updated: January 4, 2022  9:27:33 pm</div>,\n",
       "  'summary': 'Till now, the aircraft were based in Tamil Nadu on the eastern seaboard.',\n",
       "  'image': 'https://indianexpress.com/wp-content/plugins/lazy-load/images/1x1.trans.gif',\n",
       "  'link': 'https://indianexpress.com/article/india/navy-p-8i-surveillance-aircraft-fleet-ins-hansa-goa-7706445/'},\n",
       " {'sourse': <div class=\"date\">January 4, 2022 9:26:53 pm</div>,\n",
       "  'summary': 'Addressing the annual general body meeting of Pune-based Vasantdada Sugar Institute (VSI), Pawar also stressed on timely replacement of planting material to help farmers increase their per hectare production.',\n",
       "  'image': 'https://indianexpress.com/wp-content/plugins/lazy-load/images/1x1.trans.gif',\n",
       "  'link': 'https://indianexpress.com/article/cities/pune/sugar-institute-meeting-sharad-pawar-stresses-on-ethanol-production-to-escape-sugar-glut-regular-change-in-planting-material-7706442/'},\n",
       " {'sourse': <div class=\"date\">January 4, 2022 9:21:40 pm</div>,\n",
       "  'summary': \"Netgear's Meural includes a 15.6-inch photo frame priced at $299.95, 21-inch priced at $399.95 and 27-inch at $599.99.\",\n",
       "  'image': 'https://indianexpress.com/wp-content/plugins/lazy-load/images/1x1.trans.gif',\n",
       "  'link': 'https://indianexpress.com/article/technology/crypto/netgear-meurals-tests-support-to-meural-smart-frame-inks-deal-with-metamask-7706356/'},\n",
       " {'sourse': <div class=\"date\">Updated: January 4, 2022  9:20:08 pm</div>,\n",
       "  'summary': '“While AAP was trying to build a narrative that a weak case had been filed against Majithia, the Congress party was accusing him of having absconded. We agree with the contention of AAP that the case against Majithia is weak because it is not based on facts,\" Romana said.',\n",
       "  'image': 'https://indianexpress.com/wp-content/plugins/lazy-load/images/1x1.trans.gif',\n",
       "  'link': 'https://indianexpress.com/article/cities/chandigarh/by-seeking-anticipatory-bail-majithia-exercising-his-constitutional-right-says-sad-spokesman-7706436/'},\n",
       " {'sourse': <div class=\"date\">January 4, 2022 9:19:54 pm</div>,\n",
       "  'summary': 'The police said the dog has been removed from the place and been handed over to the sanitary inspector of the city corporation.\\r\\n',\n",
       "  'image': 'https://indianexpress.com/wp-content/plugins/lazy-load/images/1x1.trans.gif',\n",
       "  'link': 'https://indianexpress.com/article/cities/chennai/chennai-woman-arrest-dog-bites-girl-7706444/'},\n",
       " {'sourse': <div class=\"date\">Updated: January 4, 2022  9:10:49 pm</div>,\n",
       "  'summary': \"Kicking off the BJP's campaign for the upcoming Manipur Assembly elections, Modi said Manipur was once “synonymous with blockades” but has become under the BJP rule “a symbol of a new work culture of change, peace and development”.\",\n",
       "  'image': 'https://indianexpress.com/wp-content/plugins/lazy-load/images/1x1.trans.gif',\n",
       "  'link': 'https://indianexpress.com/article/north-east-india/modi-manipur-tripura-visit-7706225/'},\n",
       " {'sourse': <div class=\"date\">Updated: January 4, 2022  9:10:36 pm</div>,\n",
       "  'summary': 'Covid-19 Omicron India Updates, Omicron Statistics, 4 January 2022: Amid a surge in cases, Telangana has declared Sankranthi holidays were declared for all educational institutions across the state between January 8 and 16.',\n",
       "  'image': 'https://indianexpress.com/wp-content/plugins/lazy-load/images/1x1.trans.gif',\n",
       "  'link': 'https://indianexpress.com/article/india/india-covid-19-updates-delhi-mumbai-pune-kerala-7705230/'},\n",
       " {'sourse': <div class=\"date\">Updated: January 4, 2022  9:10:17 pm</div>,\n",
       "  'summary': 'In rally ahead of PM visit, Capt says he expects announcement to make farming profitable.',\n",
       "  'image': 'https://indianexpress.com/wp-content/plugins/lazy-load/images/1x1.trans.gif',\n",
       "  'link': 'https://indianexpress.com/article/cities/ludhiana/captain-amarinder-guns-for-sidhu-kejriwal-7706406/'},\n",
       " {'sourse': <div class=\"date\">Updated: January 4, 2022  9:08:45 pm</div>,\n",
       "  'summary': \"Mumbai bowler's uses his intelligence to come up with game-changing spell at Johannesburg\",\n",
       "  'image': 'https://indianexpress.com/wp-content/plugins/lazy-load/images/1x1.trans.gif',\n",
       "  'link': 'https://indianexpress.com/article/sports/cricket/how-does-shardul-thakur-get-his-wickets-by-outthinking-the-batsmen-7706147/'},\n",
       " {'sourse': <div class=\"date\">Updated: January 4, 2022  9:07:42 pm</div>,\n",
       "  'summary': \"Covid-19 Active Cases India Jan 4 Updates, New Omicron Variant Cases in India, Children Dose Today News: 😷 Today's Covid numbers: Delhi (5,481 cases), Mumbai (10,860 cases), Bengaluru (2,053 cases), Kolkata (4,759 cases), Chennai (1,489 cases)\",\n",
       "  'image': 'https://indianexpress.com/wp-content/plugins/lazy-load/images/1x1.trans.gif',\n",
       "  'link': 'https://indianexpress.com/article/india/covid-19-omicron-india-live-updates-vaccination-coronavirus-news-7705006/'},\n",
       " {'sourse': <div class=\"date\">January 4, 2022 9:05:27 pm</div>,\n",
       "  'summary': 'Ajit Pawar said offline classes for Class 9 and above will continue as students in the age bracket are now eligible to receive vaccination.',\n",
       "  'image': 'https://indianexpress.com/wp-content/plugins/lazy-load/images/1x1.trans.gif',\n",
       "  'link': 'https://indianexpress.com/article/cities/pune/pune-schools-to-shut-for-offline-classes-for-standard-1-to-8-7706434/'},\n",
       " {'sourse': <div class=\"date\">January 4, 2022 8:59:10 pm</div>,\n",
       "  'summary': 'The Montreal court ordered the seizure of the AAI funds after preliminarily identifying it as an alter ego of the Government of India, which owns ISRO and Antrix.',\n",
       "  'image': 'https://indianexpress.com/wp-content/plugins/lazy-load/images/1x1.trans.gif',\n",
       "  'link': 'https://indianexpress.com/article/cities/bangalore/devas-antrix-deal-aai-action-seizure-assets-7706402/'},\n",
       " {'sourse': <div class=\"date\">Updated: January 4, 2022  8:59:10 pm</div>,\n",
       "  'summary': '🔴 Police said Reeta Yadav had said that three assailants on a motorcycle had forced her driver to stop at gunpoint on the Lucknow-Varanasi highway and opened fire.',\n",
       "  'image': 'https://indianexpress.com/wp-content/plugins/lazy-load/images/1x1.trans.gif',\n",
       "  'link': 'https://indianexpress.com/article/cities/lucknow/congress-leader-shot-sultanpur-held-showing-black-flags-at-pm-rally-7705723/'},\n",
       " {'sourse': <div class=\"date\">Updated: January 4, 2022  8:54:29 pm</div>,\n",
       "  'summary': \"Film industry stakeholders and theatre owners say they are fighting for survival due to the Andhra Pradesh government setting caps on cinema ticket prices. They cite the earnings of Allu Arjun's Pushpa in its home state as example.\",\n",
       "  'image': 'https://indianexpress.com/wp-content/plugins/lazy-load/images/1x1.trans.gif',\n",
       "  'link': 'https://indianexpress.com/article/entertainment/telugu/are-we-a-democracy-or-a-communist-state-wonder-telugu-filmmaker-over-ap-ticket-price-cap-7697639/'},\n",
       " {'sourse': <div class=\"date\">Updated: January 4, 2022  8:52:27 pm</div>,\n",
       "  'summary': 'Check out all the products announced by TCL at CES 2022, from a pair of VR glasses to a new thin and light laptop.',\n",
       "  'image': 'https://indianexpress.com/wp-content/plugins/lazy-load/images/1x1.trans.gif',\n",
       "  'link': 'https://indianexpress.com/article/technology/tech-news-technology/ces-2022-tcl-announces-laptop-upcoming-smartphones-and-more-7706386/'},\n",
       " {'sourse': <div class=\"date\">Updated: January 4, 2022  8:52:19 pm</div>,\n",
       "  'summary': '🔴 Mumbai police on Monday detained the student from Bengaluru for allegedly using his Twitter handle to \"share derogatory\" content from the app which hosted doctored photographs and objectionable comments targeting Muslim women.',\n",
       "  'image': 'https://indianexpress.com/wp-content/plugins/lazy-load/images/1x1.trans.gif',\n",
       "  'link': 'https://indianexpress.com/article/cities/mumbai/women-doctored-photos-online-mumbai-police-arrest-21-year-old-engineering-student-7705789/'},\n",
       " {'sourse': <div class=\"date\">January 4, 2022 8:50:34 pm</div>,\n",
       "  'summary': '83 has put up a valiant effort at the box office, despite almost being crushed by Spider-Man: No Way Home and Pushpa.',\n",
       "  'image': 'https://indianexpress.com/wp-content/plugins/lazy-load/images/1x1.trans.gif',\n",
       "  'link': 'https://indianexpress.com/article/entertainment/bollywood/83-box-office-collection-ranveer-singh-film-fights-off-competition-7706339/'},\n",
       " {'sourse': <div class=\"date\">Updated: January 4, 2022  8:49:26 pm</div>,\n",
       "  'summary': 'The BMC has arranged five ambulances, each of them 17-seater, to ferry coronavirus positive patients to a COVID-19 care centre, the officials said.',\n",
       "  'image': 'https://indianexpress.com/wp-content/plugins/lazy-load/images/1x1.trans.gif',\n",
       "  'link': 'https://indianexpress.com/article/cities/mumbai/coronavirus-positive-people-on-board-ship-to-be-quarantined-in-mumbai-7706214/'},\n",
       " {'sourse': <div class=\"date\">Updated: January 4, 2022  8:48:52 pm</div>,\n",
       "  'summary': '“A financial approval has been given to fill up the posts and the recruitment to the various departments, including 5,000 posts in the Education department, will start soon,” chief Minister Basavaraj Bommai said.',\n",
       "  'image': 'https://indianexpress.com/wp-content/plugins/lazy-load/images/1x1.trans.gif',\n",
       "  'link': 'https://indianexpress.com/article/cities/bangalore/kalyana-karnataka-region-basavaraj-bommai-recruitment-7706380/'}]"
      ]
     },
     "execution_count": 27,
     "metadata": {},
     "output_type": "execute_result"
    }
   ],
   "source": [
    "news"
   ]
  },
  {
   "cell_type": "code",
   "execution_count": 3,
   "metadata": {},
   "outputs": [],
   "source": [
    "url=\"https://www.news18.com/\""
   ]
  },
  {
   "cell_type": "code",
   "execution_count": 4,
   "metadata": {},
   "outputs": [],
   "source": [
    "data=requests.get(url)"
   ]
  },
  {
   "cell_type": "code",
   "execution_count": 5,
   "metadata": {},
   "outputs": [],
   "source": [
    "soup=BeautifulSoup(data.text)"
   ]
  },
  {
   "cell_type": "code",
   "execution_count": 6,
   "metadata": {},
   "outputs": [],
   "source": [
    "news=[]\n",
    "for row in soup.find_all('li',{'class':'fnt-siz-e'}):\n",
    "    detail={}\n",
    "    detail['heading']=row.find('h2').text\n",
    "    detail['link'] = row.find('h2').find('a').attrs.get('href')\n",
    "\n",
    "\n",
    "\n",
    "    news.append(detail)"
   ]
  },
  {
   "cell_type": "code",
   "execution_count": 7,
   "metadata": {},
   "outputs": [
    {
     "data": {
      "text/plain": [
       "[]"
      ]
     },
     "execution_count": 7,
     "metadata": {},
     "output_type": "execute_result"
    }
   ],
   "source": [
    "news"
   ]
  },
  {
   "cell_type": "code",
   "execution_count": 5,
   "metadata": {},
   "outputs": [],
   "source": [
    "url=\"https://www.business-standard.com/most-read/list/day/relevance\""
   ]
  },
  {
   "cell_type": "code",
   "execution_count": 6,
   "metadata": {},
   "outputs": [],
   "source": [
    "data=requests.get(url)"
   ]
  },
  {
   "cell_type": "code",
   "execution_count": 7,
   "metadata": {},
   "outputs": [],
   "source": [
    "soup=BeautifulSoup(data.text)"
   ]
  },
  {
   "cell_type": "code",
   "execution_count": 8,
   "metadata": {},
   "outputs": [],
   "source": [
    "news=[]\n",
    "for row in soup.find_all('li',{'class':'...'}):\n",
    "    detail={}\n",
    "    detail['heading']=row.find('h2').text\n",
    "    detail['summary']=row.find('p').text\n",
    "    detail['link'] = row.find('h2').find('a').attrs.get('href')\n",
    "    detail['image']=row.find('img').attrs.get('src')\n",
    "\n",
    "    news.append(detail)"
   ]
  },
  {
   "cell_type": "code",
   "execution_count": 9,
   "metadata": {},
   "outputs": [
    {
     "data": {
      "text/plain": [
       "[]"
      ]
     },
     "execution_count": 9,
     "metadata": {},
     "output_type": "execute_result"
    }
   ],
   "source": [
    "news"
   ]
  },
  {
   "cell_type": "code",
   "execution_count": null,
   "metadata": {},
   "outputs": [],
   "source": []
  }
 ],
 "metadata": {
  "interpreter": {
   "hash": "8da01e5a71448ea74f54d88afa8911010d1d12e23bc7e103d40d5def4a09152c"
  },
  "kernelspec": {
   "display_name": "Python 3.9.8 64-bit",
   "language": "python",
   "name": "python3"
  },
  "language_info": {
   "codemirror_mode": {
    "name": "ipython",
    "version": 3
   },
   "file_extension": ".py",
   "mimetype": "text/x-python",
   "name": "python",
   "nbconvert_exporter": "python",
   "pygments_lexer": "ipython3",
   "version": "3.9.8"
  },
  "orig_nbformat": 4
 },
 "nbformat": 4,
 "nbformat_minor": 2
}
